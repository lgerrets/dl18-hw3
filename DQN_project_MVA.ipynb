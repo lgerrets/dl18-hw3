{
 "cells": [
  {
   "cell_type": "markdown",
   "metadata": {},
   "source": [
    "**You may need to install [OpenCV](https://pypi.python.org/pypi/opencv-python) and [scikit-video](http://www.scikit-video.org/stable/).**"
   ]
  },
  {
   "cell_type": "code",
   "execution_count": 1,
   "metadata": {},
   "outputs": [
    {
     "name": "stderr",
     "output_type": "stream",
     "text": [
      "Using TensorFlow backend.\n"
     ]
    }
   ],
   "source": [
    "import keras\n",
    "import numpy as np\n",
    "import io\n",
    "import base64\n",
    "from IPython.display import HTML\n",
    "import skvideo.io\n",
    "import cv2\n",
    "import json\n",
    "\n",
    "from keras.models import Sequential,model_from_json\n",
    "from keras.layers.core import Dense\n",
    "from keras.optimizers import sgd\n",
    "from keras.layers import Conv2D, MaxPooling2D, Activation, AveragePooling2D,Reshape,BatchNormalization, Flatten"
   ]
  },
  {
   "cell_type": "markdown",
   "metadata": {},
   "source": [
    "# MiniProject #3: Deep Reinforcement Learning"
   ]
  },
  {
   "cell_type": "markdown",
   "metadata": {},
   "source": [
    "__Notations__: $E_p$ is the expectation under probability $p$. Please justify each of your answer and widely comment your code."
   ]
  },
  {
   "cell_type": "markdown",
   "metadata": {},
   "source": [
    "# Context"
   ]
  },
  {
   "cell_type": "markdown",
   "metadata": {},
   "source": [
    "In a reinforcement learning algorithm, we modelize each step $t$ as an action $a_t$ obtained from a state $s_t$, i.e. $\\{(a_{t},s_{t})_{t\\leq T}\\}$ having the Markov property. We consider a discount factor $\\gamma \\in [0,1]$ that ensures convergence. The goal is to find among all the policies $\\pi$, one that maximizes the expected reward:\n",
    "\n",
    "\\begin{equation*}\n",
    "R(\\pi)=\\sum_{t\\leq T}E_{p^{\\pi}}[\\gamma^t r(s_{t},a_{t})] \\> ,\n",
    "\\end{equation*}\n",
    "\n",
    "where: \n",
    "\\begin{equation*}p^{\\pi}(a_{0},a_{1},s_{1},...,a_{T},s_{T})=p(a_{0})\\prod_{t=1}^{T}\\pi(a_{t}|s_{t})p(s_{t+1}|s_{t},a_{t}) \\> .\n",
    "\\end{equation*}\n",
    "\n",
    "We note the $Q$-function:\n",
    "\n",
    "\\begin{equation*}Q^\\pi(s,a)=E_{p^{\\pi}}[\\sum_{t\\leq T}\\gamma^{t}r(s_{t},a_{t})|s_{0}=s,a_{0}=a] \\> .\n",
    "\\end{equation*}\n",
    "\n",
    "Thus, the optimal Q function is:\n",
    "\\begin{equation*}\n",
    "Q^*(s,a)=\\max_{\\pi}Q^\\pi(s,a) \\> .\n",
    "\\end{equation*}\n",
    "\n",
    "In this project, we will apply the deep reinforcement learning techniques to a simple game: an agent will have to learn from scratch a policy that will permit it maximizing a reward."
   ]
  },
  {
   "cell_type": "markdown",
   "metadata": {},
   "source": [
    "## The environment, the agent and the game"
   ]
  },
  {
   "cell_type": "markdown",
   "metadata": {},
   "source": [
    "### The environment"
   ]
  },
  {
   "cell_type": "markdown",
   "metadata": {},
   "source": [
    "```Environment``` is an abstract class that represents the states, rewards, and actions to obtain the new state."
   ]
  },
  {
   "cell_type": "code",
   "execution_count": 2,
   "metadata": {},
   "outputs": [],
   "source": [
    "class Environment(object):\n",
    "    def __init__(self):\n",
    "        pass\n",
    "\n",
    "    def act(self, act):\n",
    "        \"\"\"\n",
    "        One can act on the environment and obtain its reaction:\n",
    "        - the new state\n",
    "        - the reward of the new state\n",
    "        - should we continue the game?\n",
    "\n",
    "        :return: state, reward, game_over\n",
    "        \"\"\"\n",
    "        pass\n",
    "\n",
    "\n",
    "    def reset(self):\n",
    "        \"\"\"\n",
    "        Reinitialize the environment to a random state and returns\n",
    "        the original state\n",
    "\n",
    "        :return: state\n",
    "        \"\"\"\n",
    "        pass\n",
    "    \n",
    "    def draw(self):\n",
    "        \"\"\"\n",
    "        Visualize in the console or graphically the current state\n",
    "        \"\"\"\n",
    "        pass"
   ]
  },
  {
   "cell_type": "markdown",
   "metadata": {},
   "source": [
    "The method ```act``` allows to act on the environment at a given state $s_t$ (stored internally), via action $a_t$. The method will return the new state $s_{t+1}$, the reward $r(s_{t},a_{t})$ and determines if $t\\leq T$ (*game_over*).\n",
    "\n",
    "The method ```reset``` simply reinitializes the environment to a random state $s_0$.\n",
    "\n",
    "The method ```draw``` displays the current state $s_t$ (this is useful to check the behavior of the Agent).\n",
    "\n",
    "We modelize $s_t$ as a tensor, while $a_t$ is an integer."
   ]
  },
  {
   "cell_type": "markdown",
   "metadata": {},
   "source": [
    "### The Agent"
   ]
  },
  {
   "cell_type": "markdown",
   "metadata": {},
   "source": [
    "The goal of the ```Agent``` is to interact with the ```Environment``` by proposing actions $a_t$ obtained from a given state $s_t$ to attempt to maximize its __reward__ $r(s_t,a_t)$. We propose the following abstract class:"
   ]
  },
  {
   "cell_type": "code",
   "execution_count": 3,
   "metadata": {},
   "outputs": [],
   "source": [
    "class Agent(object):\n",
    "    def __init__(self, epsilon=0.1, n_action=4):\n",
    "        self.epsilon = epsilon\n",
    "        self.n_action = n_action\n",
    "    \n",
    "    def set_epsilon(self,e):\n",
    "        self.epsilon = e\n",
    "\n",
    "    def act(self,s,train=True):\n",
    "        \"\"\" This function should return the next action to do:\n",
    "        an integer between 0 and 4 (not included) with a random exploration of epsilon\"\"\"\n",
    "        if train:\n",
    "            if np.random.rand() <= self.epsilon:\n",
    "                a = np.random.randint(0, self.n_action, size=1)[0]\n",
    "            else:\n",
    "                a = self.learned_act(s)\n",
    "        else: # in some cases, this can improve the performance.. remove it if poor performances\n",
    "            a = self.learned_act(s)\n",
    "\n",
    "        return a\n",
    "\n",
    "    def learned_act(self,s):\n",
    "        \"\"\" Act via the policy of the agent, from a given state s\n",
    "        it proposes an action a\"\"\"\n",
    "        pass\n",
    "\n",
    "    def reinforce(self, s, n_s, a, r, game_over_):\n",
    "        \"\"\" This function is the core of the learning algorithm. \n",
    "        It takes as an input the current state s_, the next state n_s_\n",
    "        the action a_ used to move from s_ to n_s_ and the reward r_.\n",
    "        \n",
    "        Its goal is to learn a policy.\n",
    "        \"\"\"\n",
    "        pass\n",
    "\n",
    "    def save(self):\n",
    "        \"\"\" This function returns basic stats if applicable: the\n",
    "        loss and/or the model\"\"\"\n",
    "        pass\n",
    "\n",
    "    def load(self):\n",
    "        \"\"\" This function allows to restore a model\"\"\"\n",
    "        pass"
   ]
  },
  {
   "cell_type": "markdown",
   "metadata": {},
   "source": [
    "***\n",
    "__Question 1__:\n",
    "Explain the function act. Why is ```epsilon``` essential?"
   ]
  },
  {
   "cell_type": "markdown",
   "metadata": {},
   "source": [
    "The agent above is called an *epsilon-greedy algorithm*. In such agent, `epsilon` is used to ensure that the agent sometimes randomly explores the environement instead of always acting optimally (according to itself). Choosing the right `epsilon` is quite complex and environment-dependent; this problem is referred to as the *exploration-exploitation trade-off*. Exploration is needed to guarantee that the agent is provided enough information about the global environment's states and rewards."
   ]
  },
  {
   "cell_type": "markdown",
   "metadata": {},
   "source": [
    "***\n",
    "### The Game"
   ]
  },
  {
   "cell_type": "markdown",
   "metadata": {},
   "source": [
    "The ```Agent``` and the ```Environment``` work in an interlaced way as in the following (take some time to understand this code as it is the core of the project)\n",
    "\n",
    "```python\n",
    "\n",
    "epoch = 300\n",
    "env = Environment()\n",
    "agent = Agent()\n",
    "\n",
    "\n",
    "# Number of won games\n",
    "score = 0\n",
    "loss = 0\n",
    "\n",
    "\n",
    "for e in range(epoch):\n",
    "    # At each epoch, we restart to a fresh game and get the initial state\n",
    "    state = env.reset()\n",
    "    # This assumes that the games will end\n",
    "    game_over = False\n",
    "\n",
    "    win = 0\n",
    "    lose = 0\n",
    "    \n",
    "    while not game_over:\n",
    "        # The agent performs an action\n",
    "        action = agent.act(state)\n",
    "\n",
    "        # Apply an action to the environment, get the next state, the reward\n",
    "        # and if the games end\n",
    "        prev_state = state\n",
    "        state, reward, game_over = env.act(action)\n",
    "\n",
    "        # Update the counters\n",
    "        if reward > 0:\n",
    "            win = win + reward\n",
    "        if reward < 0:\n",
    "            lose = lose -reward\n",
    "\n",
    "        # Apply the reinforcement strategy\n",
    "        loss = agent.reinforce(prev_state, state,  action, reward, game_over)\n",
    "\n",
    "    # Save as a mp4\n",
    "    if e % 10 == 0:\n",
    "        env.draw(e)\n",
    "\n",
    "    # Update stats\n",
    "    score += win-lose\n",
    "\n",
    "    print(\"Epoch {:03d}/{:03d} | Loss {:.4f} | Win/lose count {}/{} ({})\"\n",
    "          .format(e, epoch, loss, win, lose, win-lose))\n",
    "    agent.save()\n",
    "```"
   ]
  },
  {
   "cell_type": "markdown",
   "metadata": {},
   "source": [
    "# The game, *eat cheese*"
   ]
  },
  {
   "cell_type": "markdown",
   "metadata": {},
   "source": [
    "A rat runs on an island and tries to eat as much as possible. The island is subdivided into $N\\times N$ cells, in which there are cheese (+0.5) and poisonous cells (-1). The rat has a visibility of 2 cells (thus it can see $5^2$ cells). The rat is given a time $T$ to accumulate as much food as possible. It can perform 4 actions: going up, down, left, right. \n",
    "\n",
    "The goal is to code an agent to solve this task that will learn by trial and error. We propose the following environment:"
   ]
  },
  {
   "cell_type": "code",
   "execution_count": 4,
   "metadata": {},
   "outputs": [],
   "source": [
    "class Environment(object):\n",
    "    def __init__(self, grid_size=10, max_time=500, temperature=0.1):\n",
    "        grid_size = grid_size+4\n",
    "        self.grid_size = grid_size\n",
    "        self.max_time = max_time\n",
    "        self.temperature = temperature\n",
    "\n",
    "        #board on which one plays\n",
    "        self.board = np.zeros((grid_size,grid_size))\n",
    "        self.position = np.zeros((grid_size,grid_size))\n",
    "\n",
    "        # coordinate of the cat\n",
    "        self.x = 0\n",
    "        self.y = 1\n",
    "\n",
    "        # self time\n",
    "        self.t = 0\n",
    "\n",
    "        self.scale=16\n",
    "\n",
    "        self.to_draw = np.zeros((max_time+2, grid_size*self.scale, grid_size*self.scale, 3))\n",
    "\n",
    "\n",
    "    def draw(self,e):\n",
    "        skvideo.io.vwrite(str(e) + '.mp4', self.to_draw)\n",
    "\n",
    "    def get_frame(self,t):\n",
    "        b = np.zeros((self.grid_size,self.grid_size,3))+128\n",
    "        b[self.board>0,0] = 256\n",
    "        b[self.board < 0, 2] = 256\n",
    "        b[self.x,self.y,:]=256\n",
    "        b[-2:,:,:]=0\n",
    "        b[:,-2:,:]=0\n",
    "        b[:2,:,:]=0\n",
    "        b[:,:2,:]=0\n",
    "        \n",
    "        b =  cv2.resize(b, None, fx=self.scale, fy=self.scale, interpolation=cv2.INTER_NEAREST)\n",
    "\n",
    "        self.to_draw[t,:,:,:]=b\n",
    "\n",
    "\n",
    "    def act(self, action):\n",
    "        \"\"\"This function returns the new state, reward and decides if the\n",
    "        game ends.\"\"\"\n",
    "\n",
    "        self.get_frame(int(self.t))\n",
    "\n",
    "        self.position = np.zeros((self.grid_size, self.grid_size))\n",
    "\n",
    "        self.position[0:2,:]= -1\n",
    "        self.position[:,0:2] = -1\n",
    "        self.position[-2:, :] = -1\n",
    "        self.position[-2:, :] = -1\n",
    "\n",
    "        self.position[self.x, self.y] = 1\n",
    "        if action == 0: # right\n",
    "            if self.x == self.grid_size-3:\n",
    "                self.x = self.x-1\n",
    "            else:\n",
    "                self.x = self.x + 1\n",
    "        elif action == 1: # left\n",
    "            if self.x == 2:\n",
    "                self.x = self.x+1\n",
    "            else:\n",
    "                self.x = self.x-1\n",
    "        elif action == 2: # \n",
    "            if self.y == self.grid_size - 3:\n",
    "                self.y = self.y - 1\n",
    "            else:\n",
    "                self.y = self.y + 1\n",
    "        elif action == 3: # \n",
    "            if self.y == 2:\n",
    "                self.y = self.y + 1\n",
    "            else:\n",
    "                self.y = self.y - 1\n",
    "        else:\n",
    "            RuntimeError('Error: action not recognized')\n",
    "\n",
    "        self.t = self.t + 1\n",
    "        reward = self.board[self.x, self.y]\n",
    "        self.board[self.x, self.y] = 0\n",
    "        game_over = self.t > self.max_time\n",
    "\n",
    "        state = self.get_state()\n",
    "\n",
    "        return state, reward, game_over\n",
    "\n",
    "    def reset(self):\n",
    "        \"\"\"This function resets the game and returns the initial state\"\"\"\n",
    "\n",
    "        self.x = np.random.randint(3, self.grid_size-3, size=1)[0]\n",
    "        self.y = np.random.randint(3, self.grid_size-3, size=1)[0]\n",
    "\n",
    "\n",
    "        bonus = 0.5*np.random.binomial(1,self.temperature,size=self.grid_size**2)\n",
    "        bonus = bonus.reshape(self.grid_size,self.grid_size)\n",
    "\n",
    "        malus = -1.0*np.random.binomial(1,self.temperature,size=self.grid_size**2)\n",
    "        malus = malus.reshape(self.grid_size, self.grid_size)\n",
    "\n",
    "        self.to_draw = np.zeros((self.max_time+2, self.grid_size*self.scale, self.grid_size*self.scale, 3))\n",
    "\n",
    "\n",
    "        malus[bonus>0]=0\n",
    "\n",
    "        self.board = bonus + malus\n",
    "\n",
    "        self.position = np.zeros((self.grid_size, self.grid_size))\n",
    "        self.position[0:2,:]= -1\n",
    "        self.position[:,0:2] = -1\n",
    "        self.position[-2:, :] = -1\n",
    "        self.position[-2:, :] = -1\n",
    "        self.board[self.x,self.y] = 0\n",
    "        self.t = 0\n",
    "\n",
    "        return self.get_state()\n",
    "    \n",
    "    def get_state(self):\n",
    "        state = np.concatenate((\n",
    "                               self.board.reshape(self.grid_size, self.grid_size,1),\n",
    "                        self.position.reshape(self.grid_size, self.grid_size,1)),axis=2)\n",
    "\n",
    "        state = state[self.x - 2:self.x + 3, self.y - 2:self.y + 3, :]\n",
    "        return state"
   ]
  },
  {
   "cell_type": "markdown",
   "metadata": {},
   "source": [
    "The following elements are important because they correspond to the hyper parameters for this project:"
   ]
  },
  {
   "cell_type": "code",
   "execution_count": 5,
   "metadata": {},
   "outputs": [],
   "source": [
    "# parameters\n",
    "size = 13\n",
    "T=200\n",
    "temperature=0.3\n",
    "epochs_train=1 # set small when debugging\n",
    "epochs_test=1 # set small when debugging\n",
    "\n",
    "# display videos\n",
    "def display_videos(name):\n",
    "    video = io.open(name, 'r+b').read()\n",
    "    encoded = base64.b64encode(video)\n",
    "    return '''<video alt=\"test\" controls>\n",
    "                <source src=\"data:video/mp4;base64,{0}\" type=\"video/mp4\" />\n",
    "             </video>'''.format(encoded.decode('ascii'))"
   ]
  },
  {
   "cell_type": "markdown",
   "metadata": {},
   "source": [
    "__Question 2__ Explain the use of the arrays ```position``` and ```board```."
   ]
  },
  {
   "cell_type": "markdown",
   "metadata": {},
   "source": [
    "`position` contains information of the edges of the island (-1) and of the last occupied position of the agent (1).\n",
    "\n",
    "`board` contains information of all the rewards in the environment (either boni or mali)."
   ]
  },
  {
   "cell_type": "markdown",
   "metadata": {},
   "source": [
    "## Random Agent"
   ]
  },
  {
   "cell_type": "markdown",
   "metadata": {},
   "source": [
    "***\n",
    "__Question 3__ Implement a random Agent (only ```learned_act``` needs to be implemented):"
   ]
  },
  {
   "cell_type": "code",
   "execution_count": 6,
   "metadata": {},
   "outputs": [],
   "source": [
    "class RandomAgent(Agent):\n",
    "    def __init__(self):\n",
    "        super(RandomAgent, self).__init__()\n",
    "\n",
    "    def learned_act(self, s):\n",
    "        action = np.random.randint(0,self.n_action)\n",
    "        return action"
   ]
  },
  {
   "cell_type": "markdown",
   "metadata": {},
   "source": [
    "***\n",
    "***\n",
    "__Question 4__ Visualize the game moves. You need to fill in the following function for the evaluation:"
   ]
  },
  {
   "cell_type": "code",
   "execution_count": 7,
   "metadata": {},
   "outputs": [],
   "source": [
    "def test(agent,env,epochs,prefix=''):\n",
    "    # Number of won games\n",
    "    score = 0\n",
    "        \n",
    "    for e in range(epochs):\n",
    "        \n",
    "        # At each epoch, we restart to a fresh game and get the initial state\n",
    "        state = env.reset()\n",
    "        # This assumes that the games will end\n",
    "        game_over = False\n",
    "\n",
    "        win = 0\n",
    "        lose = 0\n",
    "\n",
    "        while not game_over:\n",
    "            # The agent performs an action\n",
    "            action = agent.act(state,train=False)\n",
    "\n",
    "            # Apply an action to the environment, get the next state, the reward\n",
    "            # and if the games end\n",
    "            prev_state = state\n",
    "            state, reward, game_over = env.act(action)\n",
    "\n",
    "            # Update the counters\n",
    "            if reward > 0:\n",
    "                win = win + reward\n",
    "            if reward < 0:\n",
    "                lose = lose -reward\n",
    "        \n",
    "        # Save as a mp4\n",
    "        env.draw(prefix+str(e))\n",
    "\n",
    "        # Update stats\n",
    "        score = score + win-lose\n",
    "\n",
    "        print(\"Win/lose count {}/{}. Average score ({})\"\n",
    "              .format(win, lose, score/(1+e)))\n",
    "    print('Final score: '+str(score/epochs))"
   ]
  },
  {
   "cell_type": "code",
   "execution_count": 8,
   "metadata": {},
   "outputs": [
    {
     "name": "stdout",
     "output_type": "stream",
     "text": [
      "Win/lose count 9.0/10.0. Average score (-1.0)\n",
      "Final score: -1.0\n"
     ]
    },
    {
     "data": {
      "text/html": [
       "<video alt=\"test\" controls>\n",
       "                <source src=\"data:video/mp4;base64,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\" type=\"video/mp4\" />\n",
       "             </video>"
      ],
      "text/plain": [
       "<IPython.core.display.HTML object>"
      ]
     },
     "execution_count": 8,
     "metadata": {},
     "output_type": "execute_result"
    }
   ],
   "source": [
    "# Initialize the game\n",
    "env = Environment(grid_size=size, max_time=T,temperature=temperature)\n",
    "\n",
    "# Initialize the agent!\n",
    "agent = RandomAgent()\n",
    "\n",
    "test(agent,env,epochs_test,prefix='random')\n",
    "HTML(display_videos('random0.mp4'))"
   ]
  },
  {
   "cell_type": "markdown",
   "metadata": {},
   "source": [
    "***\n",
    "## DQN"
   ]
  },
  {
   "cell_type": "markdown",
   "metadata": {},
   "source": [
    "Let us assume here that $T=\\infty$.\n",
    "\n",
    "***\n",
    "__Question 5__ Let $\\pi$ be a policy, show that:\n",
    "\n",
    "\\begin{equation*}\n",
    "Q^{\\pi}(s,a)=E_{(s',a')\\sim p(.|s,a)}[r(s,a)+\\gamma Q^{\\pi}(s',a')]\n",
    "\\end{equation*}\n",
    "\n",
    "Then, show that for the optimal policy $\\pi^*$ (we assume its existence), the following holds: \n",
    "\n",
    "\\begin{equation*}\n",
    "Q^{*}(s,a)=E_{s'\\sim \\pi^*(.|s,a)}[r(s,a)+\\gamma\\max_{a'}Q^{*}(s',a')].\n",
    "\\end{equation*}\n",
    "Finally, deduce that a plausible objective is:\n",
    "\n",
    "\\begin{equation*}\n",
    "\\mathcal{L}(\\theta)=E_{s' \\sim \\pi^*(.|s,a)}\\Vert r+\\gamma\\max\\max_{a'}Q(s',a',\\theta)-Q(s,a,\\theta)\\Vert^{2}.\n",
    "\\end{equation*}\n",
    "\n",
    "\n"
   ]
  },
  {
   "cell_type": "markdown",
   "metadata": {},
   "source": [
    "By definition we have\n",
    "\\begin{equation*}Q^\\pi(s,a)=E_{p^{\\pi}}[\\sum_{0\\leq t}\\gamma^{t}r(s_{t},a_{t})|s_{0}=s,a_{0}=a]\n",
    "\\end{equation*}\n",
    "ie\n",
    "\\begin{equation*}Q^\\pi(s,a)=E_{p^{\\pi}}[r(s,a) + \\gamma\\sum_{1\\leq t}\\gamma^{t-1}r(s_{t},a_{t})|s_{0}=s,a_{0}=a]\n",
    "\\end{equation*}\n",
    "which results in\n",
    "\\begin{equation*}Q^{\\pi}(s,a)=E_{(s',a')\\sim p(.|s,a)}[r(s,a)+\\gamma Q^{\\pi}(s',a')]\n",
    "\\end{equation*}\n",
    "Applying this last property to $Q^{\\pi^*}=Q^*$ gives:\n",
    "\\begin{equation*}Q^*(s,a)=E_{(s',a')\\sim p(.|s,a)}[r(s,a)+\\gamma Q^{*}(s',a')]\n",
    "\\end{equation*}\n",
    "and, given that\n",
    "\\begin{equation*}Q^*(s,\\pi^*(s))=\\max_{a}Q^*(s,a)\n",
    "\\end{equation*}\n",
    "we obtain\n",
    "\\begin{equation*}Q^*(s,a)=E_{s'\\sim \\pi^*(.|s,a)}[r(s,a)+\\gamma\\max_{a'}Q^{*}(s',a')] \\> .\n",
    "\\end{equation*}\n",
    "\n",
    "Now, to create an objective function, $r+\\gamma\\max_{a'}Q(s',a',\\theta)$ can be viewed as a target value for $Q(s,a,\\theta)$; the difference between the two is called a temporal difference. At every state and action, this difference is minimal with value 0 when $\\pi=\\pi^*$. Then, setting\n",
    "\\begin{equation*}\n",
    "\\mathcal{L}(\\theta)=E_{s' \\sim \\pi^*(.|s,a)}\\Vert r+\\gamma\\max\\max_{a'}Q(s',a',\\theta)-Q(s,a,\\theta)\\Vert^{2}.\n",
    "\\end{equation*}\n",
    "as the loss function to optimize is a reasonable choice. This loss function was introduced by https://arxiv.org/pdf/1312.5602.pdf to solve Atari games with deep reinforcement learning."
   ]
  },
  {
   "cell_type": "markdown",
   "metadata": {},
   "source": [
    "***\n",
    "The DQN-learning algorithm relies on these derivations to train the parameters $\\theta$ of a Deep Neural Network:\n",
    "\n",
    "1. At the state $s_t$, select the action $a_t$ with best reward using $Q_t$ and store the results;\n",
    "\n",
    "2. Obtain the new state $s_{t+1}$ from the environment $p$;\n",
    "\n",
    "3. Store $(s_t,a_t,s_{t+1})$;\n",
    "\n",
    "4. Obtain $Q_{t+1}$ by minimizing  $\\mathcal{L}$ from a recovered batch from the previously stored results.\n",
    "\n",
    "***\n",
    "__Question 6__ Implement the class ```Memory``` that stores moves (in a replay buffer) via ```remember``` and provides a ```random_access``` to these. Specify a maximum memory size to avoid side effects. You can for example use a ```list()``` and set by default ```max_memory=100```."
   ]
  },
  {
   "cell_type": "code",
   "execution_count": 9,
   "metadata": {},
   "outputs": [],
   "source": [
    "class Memory(object):\n",
    "    def __init__(self, max_memory=100):\n",
    "        self.max_memory = max_memory\n",
    "        self.memory = list()\n",
    "\n",
    "    def remember(self, m):\n",
    "        self.memory.append(m)\n",
    "        if len(self.memory) > self.max_memory:\n",
    "            self.memory.pop(0)\n",
    "\n",
    "    def random_access(self):\n",
    "        index = np.random.randint(0,len(self.memory))\n",
    "        return self.memory[index]\n",
    "    \n",
    "    def size(self):\n",
    "        return len(self.memory)"
   ]
  },
  {
   "cell_type": "markdown",
   "metadata": {},
   "source": [
    "***\n",
    "The pipeline we will use for training is given below:"
   ]
  },
  {
   "cell_type": "code",
   "execution_count": 10,
   "metadata": {},
   "outputs": [],
   "source": [
    "def train(agent,env,epoch,prefix=''):\n",
    "    # Number of won games\n",
    "    score = 0\n",
    "    loss = 0\n",
    "\n",
    "    for e in range(epoch):\n",
    "        # At each epoch, we restart to a fresh game and get the initial state\n",
    "        state = env.reset()\n",
    "        # This assumes that the games will terminate\n",
    "        game_over = False\n",
    "\n",
    "        win = 0\n",
    "        lose = 0\n",
    "\n",
    "        while not game_over:\n",
    "            # The agent performs an action\n",
    "            action = agent.act(state)\n",
    "\n",
    "            # Apply an action to the environment, get the next state, the reward\n",
    "            # and if the games end\n",
    "            prev_state = state\n",
    "            state, reward, game_over = env.act(action)\n",
    "\n",
    "            # Update the counters\n",
    "            if reward > 0:\n",
    "                win = win + reward\n",
    "            if reward < 0:\n",
    "                lose = lose -reward\n",
    "\n",
    "            # Apply the reinforcement strategy\n",
    "            loss = agent.reinforce(prev_state, state,  action, reward, game_over)\n",
    "\n",
    "        # Save as a mp4\n",
    "        if e % 10 == 0:\n",
    "            env.draw(prefix+str(e))\n",
    "\n",
    "        # Update stats\n",
    "        score += win-lose\n",
    "\n",
    "        print(\"Epoch {:03d}/{:03d} | Loss {:.4f} | Win/lose count {}/{} ({})\"\n",
    "              .format(e, epoch, loss, win, lose, win-lose))\n",
    "        agent.save(name_weights=prefix+'model.h5',name_model=prefix+'model.json')"
   ]
  },
  {
   "cell_type": "markdown",
   "metadata": {},
   "source": [
    "***\n",
    "__Question 7__ Implement the DQN training algorithm using a cascade of fully connected layers. You can use different learning rate, batch size or memory size parameters. In particular, the loss might oscillate while the player will start to win the games. You have to find a good criterium."
   ]
  },
  {
   "cell_type": "code",
   "execution_count": 11,
   "metadata": {},
   "outputs": [],
   "source": [
    "class DQN(Agent):\n",
    "    def __init__(self, grid_size,  epsilon = 0.1, memory_size=100, batch_size = 16,n_state=2):\n",
    "        super(DQN, self).__init__(epsilon = epsilon)\n",
    "\n",
    "        # Discount for Q learning\n",
    "        self.discount = 0.99\n",
    "        \n",
    "        self.grid_size = grid_size\n",
    "        \n",
    "        # number of state\n",
    "        self.n_state = n_state\n",
    "\n",
    "        # Memory\n",
    "        self.memory = Memory(memory_size)\n",
    "        \n",
    "        # Batch size when learning\n",
    "        self.batch_size = batch_size\n",
    "        \n",
    "    def learned_act(self, s):\n",
    "        q = self.model.predict(np.array([s,]))[0]\n",
    "        a = np.argmax(q)\n",
    "        return a\n",
    "\n",
    "    def reinforce(self, s_, n_s_, a_, r_, game_over_):\n",
    "        # Two steps: first memorize the states, second learn from the pool\n",
    "\n",
    "        self.memory.remember([s_, n_s_, a_, r_, game_over_])\n",
    "        \n",
    "        if self.memory.size() == 10*self.batch_size:\n",
    "            print(\"Now starting to learn from collected episodes\")\n",
    "        \n",
    "        if self.memory.size() >= 10*self.batch_size:\n",
    "            input_states = np.zeros((self.batch_size, 5,5,self.n_state))\n",
    "            target_q = np.zeros((self.batch_size, 4))\n",
    "\n",
    "            for i in range(self.batch_size):\n",
    "                ######## FILL IN\n",
    "                s_, n_s_, a_, r_, game_over_ = self.memory.random_access()\n",
    "                target_q_ = self.model.predict(np.array([s_,]))[0]\n",
    "                if game_over_:\n",
    "                    ######## FILL IN\n",
    "                    target_q_a = r_\n",
    "                else:\n",
    "                    ######## FILL IN\n",
    "                    target_q_a = r_ + self.discount*np.max(self.model.predict(np.array([n_s_,]))[0])\n",
    "                target_q_[a_] = target_q_a\n",
    "                target_q[i,:] = target_q_[:]\n",
    "                input_states[i,:,:,:] = s_\n",
    "            ######## FILL IN\n",
    "            # HINT: Clip the target to avoid exploiding gradients.. -- clipping is a bit tighter\n",
    "            target_q = np.clip(target_q, -3, 3)\n",
    "\n",
    "            l = self.model.train_on_batch(input_states, target_q)\n",
    "        else:\n",
    "            l = 0\n",
    "\n",
    "        return l\n",
    "\n",
    "    def save(self,name_weights='model.h5',name_model='model.json'):\n",
    "        self.model.save_weights(name_weights, overwrite=True)\n",
    "        with open(name_model, \"w\") as outfile:\n",
    "            json.dump(self.model.to_json(), outfile)\n",
    "            \n",
    "    def load(self,name_weights='model.h5',name_model='model.json'):\n",
    "        with open(name_model, \"r\") as jfile:\n",
    "            model = model_from_json(json.load(jfile))\n",
    "        model.load_weights(name_weights)\n",
    "        model.compile(\"sgd\", \"mse\")\n",
    "        self.model = model\n",
    "\n",
    "            \n",
    "class DQN_FC(DQN):\n",
    "    def __init__(self, *args, lr=0.1,**kwargs):\n",
    "        super(DQN_FC, self).__init__( *args,**kwargs)\n",
    "        \n",
    "        # NN Model\n",
    "        \n",
    "        ####### FILL IN\n",
    "        model = Sequential()\n",
    "        model.add(Reshape((50,),input_shape=(5,5,self.n_state)))\n",
    "        model.add(Dense(32))\n",
    "        model.add(Activation('elu'))\n",
    "        model.add(Dense(16))\n",
    "        model.add(Activation('elu'))\n",
    "        model.add(Dense(4))\n",
    "        \n",
    "        model.compile(sgd(lr=lr, decay=1e-4, momentum=0.0), \"mse\")\n",
    "        #model.predict(np.zeros((2,5,5,self.n_state))) # dummy call to init input_shape\n",
    "        self.model = model\n",
    "        "
   ]
  },
  {
   "cell_type": "code",
   "execution_count": 12,
   "metadata": {
    "scrolled": false
   },
   "outputs": [
    {
     "name": "stdout",
     "output_type": "stream",
     "text": [
      "Epoch 000/031 | Loss 0.0000 | Win/lose count 2.0/12.0 (-10.0)\n",
      "Now starting to learn from collected episodes\n",
      "Epoch 001/031 | Loss 0.0221 | Win/lose count 0/4.0 (-4.0)\n",
      "Epoch 002/031 | Loss 0.0140 | Win/lose count 4.5/6.0 (-1.5)\n",
      "Epoch 003/031 | Loss 0.0063 | Win/lose count 2.5/5.0 (-2.5)\n",
      "Epoch 004/031 | Loss 0.0212 | Win/lose count 4.0/7.0 (-3.0)\n",
      "Epoch 005/031 | Loss 0.0115 | Win/lose count 1.5/2.0 (-0.5)\n",
      "Epoch 006/031 | Loss 0.0113 | Win/lose count 2.0/5.0 (-3.0)\n",
      "Epoch 007/031 | Loss 0.0081 | Win/lose count 6.0/3.0 (3.0)\n",
      "Epoch 008/031 | Loss 0.0082 | Win/lose count 2.0/3.0 (-1.0)\n",
      "Epoch 009/031 | Loss 0.0330 | Win/lose count 3.0/5.0 (-2.0)\n",
      "Epoch 010/031 | Loss 0.0128 | Win/lose count 2.0/8.0 (-6.0)\n",
      "Epoch 011/031 | Loss 0.0178 | Win/lose count 3.0/3.0 (0.0)\n",
      "Epoch 012/031 | Loss 0.0189 | Win/lose count 2.5/8.0 (-5.5)\n",
      "Epoch 013/031 | Loss 0.0024 | Win/lose count 2.5/0 (2.5)\n",
      "Epoch 014/031 | Loss 0.0090 | Win/lose count 3.5/4.0 (-0.5)\n",
      "Epoch 015/031 | Loss 0.0169 | Win/lose count 8.0/5.0 (3.0)\n",
      "Epoch 016/031 | Loss 0.0108 | Win/lose count 4.5/3.0 (1.5)\n",
      "Epoch 017/031 | Loss 0.0113 | Win/lose count 2.0/3.0 (-1.0)\n",
      "Epoch 018/031 | Loss 0.0206 | Win/lose count 5.5/3.0 (2.5)\n",
      "Epoch 019/031 | Loss 0.0038 | Win/lose count 7.0/4.0 (3.0)\n",
      "Epoch 020/031 | Loss 0.0094 | Win/lose count 3.0/0 (3.0)\n",
      "Epoch 021/031 | Loss 0.0034 | Win/lose count 6.0/3.0 (3.0)\n",
      "Epoch 022/031 | Loss 0.0065 | Win/lose count 10.0/7.0 (3.0)\n",
      "Epoch 023/031 | Loss 0.0652 | Win/lose count 9.0/9.0 (0.0)\n",
      "Epoch 024/031 | Loss 0.0109 | Win/lose count 8.5/5.0 (3.5)\n",
      "Epoch 025/031 | Loss 0.0155 | Win/lose count 7.5/5.0 (2.5)\n",
      "Epoch 026/031 | Loss 0.0439 | Win/lose count 4.0/3.0 (1.0)\n",
      "Epoch 027/031 | Loss 0.0128 | Win/lose count 10.5/5.0 (5.5)\n",
      "Epoch 028/031 | Loss 0.0082 | Win/lose count 2.0/0 (2.0)\n",
      "Epoch 029/031 | Loss 0.0191 | Win/lose count 6.5/6.0 (0.5)\n",
      "Epoch 030/031 | Loss 0.0067 | Win/lose count 6.5/0 (6.5)\n"
     ]
    },
    {
     "data": {
      "text/html": [
       "<video alt=\"test\" controls>\n",
       "                <source src=\"data:video/mp4;base64,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\" type=\"video/mp4\" />\n",
       "             </video>"
      ],
      "text/plain": [
       "<IPython.core.display.HTML object>"
      ]
     },
     "execution_count": 12,
     "metadata": {},
     "output_type": "execute_result"
    }
   ],
   "source": [
    "epochs_train=31 # set small when debugging\n",
    "\n",
    "env = Environment(grid_size=size, max_time=T, temperature=0.3)\n",
    "agent = DQN_FC(size, lr=.03, epsilon = 0.1, memory_size=2000, batch_size = 32)\n",
    "train(agent, env, epochs_train, prefix='fc_train')\n",
    "HTML(display_videos('fc_train10.mp4'))"
   ]
  },
  {
   "cell_type": "code",
   "execution_count": 13,
   "metadata": {},
   "outputs": [
    {
     "name": "stdout",
     "output_type": "stream",
     "text": [
      "_________________________________________________________________\n",
      "Layer (type)                 Output Shape              Param #   \n",
      "=================================================================\n",
      "reshape_1 (Reshape)          (None, 50)                0         \n",
      "_________________________________________________________________\n",
      "dense_1 (Dense)              (None, 32)                1632      \n",
      "_________________________________________________________________\n",
      "activation_1 (Activation)    (None, 32)                0         \n",
      "_________________________________________________________________\n",
      "dense_2 (Dense)              (None, 16)                528       \n",
      "_________________________________________________________________\n",
      "activation_2 (Activation)    (None, 16)                0         \n",
      "_________________________________________________________________\n",
      "dense_3 (Dense)              (None, 4)                 68        \n",
      "=================================================================\n",
      "Total params: 2,228\n",
      "Trainable params: 2,228\n",
      "Non-trainable params: 0\n",
      "_________________________________________________________________\n",
      "None\n"
     ]
    }
   ],
   "source": [
    "print(agent.model.summary())"
   ]
  },
  {
   "cell_type": "markdown",
   "metadata": {},
   "source": [
    "***\n",
    "***\n",
    "__Question 8__ Implement the DQN training algorithm using a CNN (for example, 2 convolutional layers and one final fully connected layer)."
   ]
  },
  {
   "cell_type": "code",
   "execution_count": 14,
   "metadata": {},
   "outputs": [],
   "source": [
    "class DQN_CNN(DQN):\n",
    "    def __init__(self, *args,lr=0.1,**kwargs):\n",
    "        super().__init__(*args,**kwargs)\n",
    "        \n",
    "        ###### FILL IN\n",
    "        model = Sequential()\n",
    "        model.add(Conv2D(filters=8, kernel_size=2, strides=(1, 1), padding='valid',activation='relu'))\n",
    "        model.add(MaxPooling2D(pool_size=(2, 2), strides=1, padding='valid'))\n",
    "        model.add(Conv2D(filters=16, kernel_size=2, strides=(1, 1), padding='valid',activation='relu'))\n",
    "        model.add(MaxPooling2D(pool_size=(2, 2), strides=1, padding='valid'))\n",
    "        model.add(Flatten())\n",
    "        model.add(Dense(4))\n",
    "        \n",
    "        model.compile(sgd(lr=lr, decay=1e-4, momentum=0.0), \"mse\")\n",
    "        self.model = model"
   ]
  },
  {
   "cell_type": "code",
   "execution_count": 15,
   "metadata": {},
   "outputs": [
    {
     "name": "stdout",
     "output_type": "stream",
     "text": [
      "Epoch 000/031 | Loss 0.0000 | Win/lose count 1.5/1.0 (0.5)\n",
      "Now starting to learn from collected episodes\n",
      "Epoch 001/031 | Loss 0.0193 | Win/lose count 3.0/7.0 (-4.0)\n",
      "Epoch 002/031 | Loss 0.0026 | Win/lose count 1.0/7.0 (-6.0)\n",
      "Epoch 003/031 | Loss 0.0179 | Win/lose count 0.5/4.0 (-3.5)\n",
      "Epoch 004/031 | Loss 0.0230 | Win/lose count 2.0/2.0 (0.0)\n",
      "Epoch 005/031 | Loss 0.0017 | Win/lose count 2.5/7.0 (-4.5)\n",
      "Epoch 006/031 | Loss 0.0162 | Win/lose count 2.5/2.0 (0.5)\n",
      "Epoch 007/031 | Loss 0.0044 | Win/lose count 4.5/2.0 (2.5)\n",
      "Epoch 008/031 | Loss 0.0170 | Win/lose count 3.5/3.0 (0.5)\n",
      "Epoch 009/031 | Loss 0.0088 | Win/lose count 4.0/0 (4.0)\n",
      "Epoch 010/031 | Loss 0.0102 | Win/lose count 3.0/2.0 (1.0)\n",
      "Epoch 011/031 | Loss 0.0143 | Win/lose count 3.5/2.0 (1.5)\n",
      "Epoch 012/031 | Loss 0.0175 | Win/lose count 2.5/3.0 (-0.5)\n",
      "Epoch 013/031 | Loss 0.0009 | Win/lose count 1.5/2.0 (-0.5)\n",
      "Epoch 014/031 | Loss 0.0015 | Win/lose count 3.0/2.0 (1.0)\n",
      "Epoch 015/031 | Loss 0.0028 | Win/lose count 4.0/1.0 (3.0)\n",
      "Epoch 016/031 | Loss 0.0148 | Win/lose count 3.5/5.0 (-1.5)\n",
      "Epoch 017/031 | Loss 0.0052 | Win/lose count 3.0/4.0 (-1.0)\n",
      "Epoch 018/031 | Loss 0.0019 | Win/lose count 3.0/4.0 (-1.0)\n",
      "Epoch 019/031 | Loss 0.0050 | Win/lose count 2.5/3.0 (-0.5)\n",
      "Epoch 020/031 | Loss 0.0004 | Win/lose count 1.0/1.0 (0.0)\n",
      "Epoch 021/031 | Loss 0.0033 | Win/lose count 3.5/2.0 (1.5)\n",
      "Epoch 022/031 | Loss 0.0028 | Win/lose count 3.5/4.0 (-0.5)\n",
      "Epoch 023/031 | Loss 0.0075 | Win/lose count 2.0/10.0 (-8.0)\n",
      "Epoch 024/031 | Loss 0.0200 | Win/lose count 2.5/0 (2.5)\n",
      "Epoch 025/031 | Loss 0.0025 | Win/lose count 4.0/5.0 (-1.0)\n",
      "Epoch 026/031 | Loss 0.0196 | Win/lose count 6.0/1.0 (5.0)\n",
      "Epoch 027/031 | Loss 0.0027 | Win/lose count 1.5/0 (1.5)\n",
      "Epoch 028/031 | Loss 0.0057 | Win/lose count 2.5/1.0 (1.5)\n",
      "Epoch 029/031 | Loss 0.0146 | Win/lose count 2.5/6.0 (-3.5)\n",
      "Epoch 030/031 | Loss 0.0296 | Win/lose count 3.5/0 (3.5)\n"
     ]
    },
    {
     "data": {
      "text/html": [
       "<video alt=\"test\" controls>\n",
       "                <source src=\"data:video/mp4;base64,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\" type=\"video/mp4\" />\n",
       "             </video>"
      ],
      "text/plain": [
       "<IPython.core.display.HTML object>"
      ]
     },
     "execution_count": 15,
     "metadata": {},
     "output_type": "execute_result"
    }
   ],
   "source": [
    "epochs_train=31 # set small when debugging\n",
    "\n",
    "env = Environment(grid_size=size, max_time=T, temperature=0.3)\n",
    "agent = DQN_CNN(size, lr=.03, epsilon = 0.1, memory_size=2000, batch_size = 32)\n",
    "train(agent,env,epochs_train,prefix='cnn_train')\n",
    "HTML(display_videos('cnn_train10.mp4'))"
   ]
  },
  {
   "cell_type": "code",
   "execution_count": 16,
   "metadata": {},
   "outputs": [
    {
     "name": "stdout",
     "output_type": "stream",
     "text": [
      "_________________________________________________________________\n",
      "Layer (type)                 Output Shape              Param #   \n",
      "=================================================================\n",
      "conv2d_1 (Conv2D)            (None, 4, 4, 8)           72        \n",
      "_________________________________________________________________\n",
      "max_pooling2d_1 (MaxPooling2 (None, 3, 3, 8)           0         \n",
      "_________________________________________________________________\n",
      "conv2d_2 (Conv2D)            (None, 2, 2, 16)          528       \n",
      "_________________________________________________________________\n",
      "max_pooling2d_2 (MaxPooling2 (None, 1, 1, 16)          0         \n",
      "_________________________________________________________________\n",
      "flatten_1 (Flatten)          (None, 16)                0         \n",
      "_________________________________________________________________\n",
      "dense_4 (Dense)              (None, 4)                 68        \n",
      "=================================================================\n",
      "Total params: 668\n",
      "Trainable params: 668\n",
      "Non-trainable params: 0\n",
      "_________________________________________________________________\n",
      "None\n"
     ]
    }
   ],
   "source": [
    "print(agent.model.summary())"
   ]
  },
  {
   "cell_type": "markdown",
   "metadata": {},
   "source": [
    "***\n",
    "***\n",
    "__Question 9__ Test both algorithms and compare their performances. Which issue(s) do you observe? Observe also different behaviors by changing the temperature."
   ]
  },
  {
   "cell_type": "code",
   "execution_count": 17,
   "metadata": {},
   "outputs": [
    {
     "name": "stdout",
     "output_type": "stream",
     "text": [
      "Test of the CNN\n",
      "Win/lose count 2.0/0. Average score (2.0)\n",
      "Win/lose count 1.5/0. Average score (1.75)\n",
      "Win/lose count 6.5/0. Average score (3.3333333333333335)\n",
      "Win/lose count 4.0/2.0. Average score (3.0)\n",
      "Win/lose count 5.0/1.0. Average score (3.2)\n",
      "Win/lose count 0/0. Average score (2.6666666666666665)\n",
      "Win/lose count 2.5/0. Average score (2.642857142857143)\n",
      "Win/lose count 4.5/1.0. Average score (2.75)\n",
      "Win/lose count 0.5/0. Average score (2.5)\n",
      "Win/lose count 0.5/0. Average score (2.3)\n",
      "Win/lose count 1.5/0. Average score (2.227272727272727)\n",
      "Win/lose count 0.5/0. Average score (2.0833333333333335)\n",
      "Win/lose count 3.0/0. Average score (2.1538461538461537)\n",
      "Win/lose count 0/0. Average score (2.0)\n",
      "Win/lose count 4.0/0. Average score (2.1333333333333333)\n",
      "Win/lose count 1.5/0. Average score (2.09375)\n",
      "Win/lose count 0.5/0. Average score (2.0)\n",
      "Win/lose count 1.5/0. Average score (1.9722222222222223)\n",
      "Win/lose count 4.0/2.0. Average score (1.9736842105263157)\n",
      "Win/lose count 4.5/0. Average score (2.1)\n",
      "Final score: 2.1\n",
      "Test of the FC\n",
      "Win/lose count 0/1.0. Average score (-1.0)\n",
      "Win/lose count 1.0/4.0. Average score (-2.0)\n",
      "Win/lose count 3.0/8.0. Average score (-3.0)\n",
      "Win/lose count 0.5/1.0. Average score (-2.375)\n",
      "Win/lose count 0.5/1.0. Average score (-2.0)\n",
      "Win/lose count 3.5/3.0. Average score (-1.5833333333333333)\n",
      "Win/lose count 1.0/4.0. Average score (-1.7857142857142858)\n",
      "Win/lose count 1.0/1.0. Average score (-1.5625)\n",
      "Win/lose count 0.5/4.0. Average score (-1.7777777777777777)\n",
      "Win/lose count 0/0. Average score (-1.6)\n",
      "Win/lose count 0/1.0. Average score (-1.5454545454545454)\n",
      "Win/lose count 0/0. Average score (-1.4166666666666667)\n",
      "Win/lose count 0/0. Average score (-1.3076923076923077)\n",
      "Win/lose count 1.5/6.0. Average score (-1.5357142857142858)\n",
      "Win/lose count 0.5/0. Average score (-1.4)\n",
      "Win/lose count 1.5/1.0. Average score (-1.28125)\n",
      "Win/lose count 2.0/5.0. Average score (-1.3823529411764706)\n",
      "Win/lose count 2.5/3.0. Average score (-1.3333333333333333)\n",
      "Win/lose count 1.5/1.0. Average score (-1.236842105263158)\n",
      "Win/lose count 0/0. Average score (-1.175)\n",
      "Final score: -1.175\n"
     ]
    }
   ],
   "source": [
    "env = Environment(grid_size=size, max_time=T,temperature=0.3)\n",
    "agent_cnn = DQN_CNN(size, lr=.1, epsilon = 0.1, memory_size=2000, batch_size = 32)\n",
    "agent_cnn.load(name_weights='cnn_trainmodel.h5',name_model='cnn_trainmodel.json')\n",
    "\n",
    "agent_fc = DQN_FC(size, lr=.1, epsilon = 0.1, memory_size=2000, batch_size = 32)\n",
    "agent_cnn.load(name_weights='fc_trainmodel.h5',name_model='fc_trainmodel.json')\n",
    "\n",
    "epochs_test = 20\n",
    "print('Test of the CNN')\n",
    "test(agent_cnn,env,epochs_test,prefix='cnn_test')\n",
    "print('Test of the FC')\n",
    "test(agent_fc,env,epochs_test,prefix='fc_test')"
   ]
  },
  {
   "cell_type": "code",
   "execution_count": 18,
   "metadata": {},
   "outputs": [
    {
     "data": {
      "text/html": [
       "<video alt=\"test\" controls>\n",
       "                <source src=\"data:video/mp4;base64,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\" type=\"video/mp4\" />\n",
       "             </video>"
      ],
      "text/plain": [
       "<IPython.core.display.HTML object>"
      ]
     },
     "execution_count": 18,
     "metadata": {},
     "output_type": "execute_result"
    }
   ],
   "source": [
    "HTML(display_videos('cnn_test10.mp4'))"
   ]
  },
  {
   "cell_type": "code",
   "execution_count": 19,
   "metadata": {},
   "outputs": [
    {
     "data": {
      "text/html": [
       "<video alt=\"test\" controls>\n",
       "                <source src=\"data:video/mp4;base64,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\" type=\"video/mp4\" />\n",
       "             </video>"
      ],
      "text/plain": [
       "<IPython.core.display.HTML object>"
      ]
     },
     "execution_count": 19,
     "metadata": {},
     "output_type": "execute_result"
    }
   ],
   "source": [
    "HTML(display_videos('fc_test10.mp4'))"
   ]
  },
  {
   "cell_type": "markdown",
   "metadata": {},
   "source": [
    "We tested several setting for the environment by changing the temperature. We find that:\n",
    "- by comparing the average reward over 20 episodes, the CNN agent outperforms FC in every environment setting, although it has less parameters\n",
    "- in most of the episodes, the agents (both FC and CNN) soon enter a 2-step cycle left/right or up/down; as a result, they gather very few boni and mali\n",
    "- the 2 agents take a bit more steps to enter such cycle when the temperature is closer to 1 than to 0."
   ]
  },
  {
   "cell_type": "markdown",
   "metadata": {},
   "source": [
    "***\n",
    "\n",
    "The algorithm tends to not explore the map which can be an issue. We propose two ideas in order to encourage exploration:\n",
    "1. Incorporating a decreasing $\\epsilon$-greedy exploration. You can use the method ```set_epsilon```\n",
    "2. Append via the environment a new state that describes if a cell has been visited or not\n",
    "\n",
    "***\n",
    "__Question 10__ Design a new ```train_explore``` function and environment class ```EnvironmentExploring``` to tackle the issue of exploration.\n",
    "\n"
   ]
  },
  {
   "cell_type": "code",
   "execution_count": 20,
   "metadata": {},
   "outputs": [],
   "source": [
    "def epsilon_linear(e,epsilon_range,last_epoch):\n",
    "    \"\"\"\n",
    "    Inputs: e (int) an epoch iteration\n",
    "            epsilon range (tuple of 2 int) epsilon at e = 0 and epsilon at e = last_epoch\n",
    "            last_epoch (int)\n",
    "    Outputs: epsilon\n",
    "    \"\"\"\n",
    "    if e <= last_epoch:\n",
    "        epsilon = (1/last_epoch)*((last_epoch - e)*epsilon_range[0] + e*epsilon_range[1])\n",
    "    else:\n",
    "        epsilon = epsilon_range[1]\n",
    "    return epsilon\n",
    "\n",
    "def train_explore(agent,env,epoch,epsilon_setter,prefix=''):\n",
    "    \"\"\"A remake of function train with 2 diff:\n",
    "    - call `env.step(action,train=True)` instead of `env.step(action)` (Assumes env is of class `EnvironmentExploring`)\n",
    "    - updates `agent.epsilon` at each epoch according to `epsilon_setter`\n",
    "    \n",
    "    Inputs:\n",
    "        epsilon_setter (function) takes 1 int argument and returns 1 scalar between 0 and 1\n",
    "        env (class) should implement EnvironmentExploring\n",
    "        other inputs (agent,epoch,prefix) are the same as function train    \n",
    "    \"\"\"\n",
    "    # Number of won games\n",
    "    score = 0\n",
    "    loss = 0\n",
    "\n",
    "    for e in range(epoch):\n",
    "        # At each epoch, we restart to a fresh game and get the initial state\n",
    "        state = env.reset()\n",
    "        # This assumes that the games will terminate\n",
    "        game_over = False\n",
    "        \n",
    "        agent.set_epsilon(epsilon_setter(e))\n",
    "\n",
    "        win = 0\n",
    "        lose = 0\n",
    "\n",
    "        while not game_over:\n",
    "            # The agent performs an action\n",
    "            action = agent.act(state)\n",
    "\n",
    "            # Apply an action to the environment, get the next state, the reward\n",
    "            # and if the games end\n",
    "            prev_state = state\n",
    "            state, reward, game_over = env.act(action,True) # MODIFIED from function train\n",
    "\n",
    "            # Update the counters\n",
    "            if reward > 0:\n",
    "                win = win + reward\n",
    "            if reward < 0:\n",
    "                lose = lose -reward\n",
    "\n",
    "            # Apply the reinforcement strategy\n",
    "            loss = agent.reinforce(prev_state, state,  action, reward, game_over)\n",
    "\n",
    "        # Save as a mp4\n",
    "        if e % 10 == 0:\n",
    "            env.draw(prefix+str(e))\n",
    "\n",
    "        # Update stats\n",
    "        score += win-lose\n",
    "\n",
    "        print(\"Epoch {:03d}/{:03d} | Loss {:.4f} | Win/lose count {}/{} ({})\"\n",
    "              .format(e, epoch, loss, win, lose, win-lose))\n",
    "        agent.save(name_weights=prefix+'model.h5',name_model=prefix+'model.json')\n",
    "        \n",
    "class EnvironmentExploring(Environment):\n",
    "    \"\"\"\n",
    "    A remake of class Environment. Adds a penalization when visiting an state already visited during current episode.\n",
    "    Also adds a layer of features to the state observation corresponding to the visited states.\"\"\"\n",
    "    def __init__(self, grid_size=10, max_time=500, temperature=0.1):\n",
    "        super(EnvironmentExploring,self).__init__(grid_size, max_time, temperature)\n",
    "        \n",
    "        self.malus_dejavu = 0.1\n",
    "        \n",
    "    def act(self, action, train=False):\n",
    "        \"\"\"This function returns the new state, reward and decides if the\n",
    "        game ends.\"\"\"\n",
    "        \n",
    "        state, reward, game_over = super(EnvironmentExploring,self).act(action)\n",
    "\n",
    "        if train:\n",
    "            reward += -self.malus_position[self.x, self.y]\n",
    "        \n",
    "        if self.malus_position[self.x,self.y] != self.malus_dejavu:\n",
    "            self.malus_position[self.x, self.y] = self.malus_dejavu\n",
    "            state = self.get_state()\n",
    "\n",
    "        return state, reward, game_over\n",
    "    \n",
    "    def get_state(self):\n",
    "        state = np.concatenate((self.malus_position.reshape(self.grid_size, self.grid_size,1),\n",
    "                                        self.board.reshape(self.grid_size, self.grid_size,1),\n",
    "                                self.position.reshape(self.grid_size, self.grid_size,1)),axis=2)\n",
    "        state = state[self.x - 2:self.x + 3, self.y - 2:self.y + 3, :]\n",
    "        return state\n",
    "    \n",
    "    def reset(self):\n",
    "        self.malus_position = np.zeros((self.grid_size,self.grid_size))\n",
    "        \n",
    "        return super(EnvironmentExploring,self).reset()"
   ]
  },
  {
   "cell_type": "code",
   "execution_count": 21,
   "metadata": {},
   "outputs": [
    {
     "name": "stdout",
     "output_type": "stream",
     "text": [
      "Epoch 000/051 | Loss 0.0000 | Win/lose count 4.0/25.500000000000107 (-21.500000000000107)\n",
      "Now starting to learn from collected episodes\n",
      "Epoch 001/051 | Loss 0.0071 | Win/lose count 6.0/25.800000000000033 (-19.800000000000033)\n",
      "Epoch 002/051 | Loss 0.0136 | Win/lose count 1.0/20.000000000000014 (-19.000000000000014)\n",
      "Epoch 003/051 | Loss 0.0086 | Win/lose count 1.0/20.900000000000027 (-19.900000000000027)\n",
      "Epoch 004/051 | Loss 0.0198 | Win/lose count 13.0/19.200000000000014 (-6.2000000000000135)\n",
      "Epoch 005/051 | Loss 0.0066 | Win/lose count 8.0/21.500000000000043 (-13.500000000000043)\n",
      "Epoch 006/051 | Loss 0.0043 | Win/lose count 3.0/20.70000000000003 (-17.70000000000003)\n",
      "Epoch 007/051 | Loss 0.0115 | Win/lose count 7.0/24.40000000000006 (-17.40000000000006)\n",
      "Epoch 008/051 | Loss 0.0067 | Win/lose count 4.0/20.200000000000028 (-16.200000000000028)\n",
      "Epoch 009/051 | Loss 0.0499 | Win/lose count 10.0/24.700000000000085 (-14.700000000000085)\n",
      "Epoch 010/051 | Loss 0.0037 | Win/lose count 4.5/20.90000000000003 (-16.40000000000003)\n",
      "Epoch 011/051 | Loss 0.0150 | Win/lose count 6.5/19.0 (-12.5)\n",
      "Epoch 012/051 | Loss 0.0166 | Win/lose count 4.0/20.100000000000026 (-16.100000000000026)\n",
      "Epoch 013/051 | Loss 0.0065 | Win/lose count 10.0/26.300000000000132 (-16.300000000000132)\n",
      "Epoch 014/051 | Loss 0.0060 | Win/lose count 3.5/18.099999999999987 (-14.599999999999987)\n",
      "Epoch 015/051 | Loss 0.0065 | Win/lose count 8.0/21.500000000000036 (-13.500000000000036)\n",
      "Epoch 016/051 | Loss 0.0080 | Win/lose count 5.5/20.50000000000002 (-15.000000000000021)\n",
      "Epoch 017/051 | Loss 0.0090 | Win/lose count 7.5/24.70000000000003 (-17.20000000000003)\n",
      "Epoch 018/051 | Loss 0.0112 | Win/lose count 10.5/19.30000000000001 (-8.800000000000011)\n",
      "Epoch 019/051 | Loss 0.0101 | Win/lose count 10.5/20.000000000000025 (-9.500000000000025)\n",
      "Epoch 020/051 | Loss 0.0162 | Win/lose count 11.0/19.900000000000027 (-8.900000000000027)\n",
      "Epoch 021/051 | Loss 0.0072 | Win/lose count 9.5/20.70000000000004 (-11.200000000000038)\n",
      "Epoch 022/051 | Loss 0.0442 | Win/lose count 0.5/24.300000000000086 (-23.800000000000086)\n",
      "Epoch 023/051 | Loss 0.0032 | Win/lose count 12.0/17.399999999999984 (-5.399999999999984)\n",
      "Epoch 024/051 | Loss 0.0175 | Win/lose count 10.0/18.599999999999987 (-8.599999999999987)\n",
      "Epoch 025/051 | Loss 0.0130 | Win/lose count 6.5/16.399999999999963 (-9.899999999999963)\n",
      "Epoch 026/051 | Loss 0.0056 | Win/lose count 8.0/19.10000000000001 (-11.100000000000009)\n",
      "Epoch 027/051 | Loss 0.0114 | Win/lose count 11.5/22.200000000000045 (-10.700000000000045)\n",
      "Epoch 028/051 | Loss 0.0073 | Win/lose count 6.0/16.299999999999965 (-10.299999999999965)\n",
      "Epoch 029/051 | Loss 0.0058 | Win/lose count 9.0/24.20000000000006 (-15.20000000000006)\n",
      "Epoch 030/051 | Loss 0.0127 | Win/lose count 3.0/18.699999999999996 (-15.699999999999996)\n",
      "Epoch 031/051 | Loss 0.0084 | Win/lose count 5.0/22.00000000000002 (-17.00000000000002)\n",
      "Epoch 032/051 | Loss 0.0097 | Win/lose count 7.0/22.100000000000037 (-15.100000000000037)\n",
      "Epoch 033/051 | Loss 0.0119 | Win/lose count 9.5/19.400000000000006 (-9.900000000000006)\n",
      "Epoch 034/051 | Loss 0.0089 | Win/lose count 4.5/17.59999999999998 (-13.09999999999998)\n",
      "Epoch 035/051 | Loss 0.0123 | Win/lose count 9.5/17.59999999999999 (-8.09999999999999)\n",
      "Epoch 036/051 | Loss 0.0117 | Win/lose count 9.0/19.300000000000015 (-10.300000000000015)\n",
      "Epoch 037/051 | Loss 0.0047 | Win/lose count 8.0/21.29999999999999 (-13.29999999999999)\n",
      "Epoch 038/051 | Loss 0.0154 | Win/lose count 5.0/19.70000000000001 (-14.70000000000001)\n",
      "Epoch 039/051 | Loss 0.0071 | Win/lose count 11.5/20.00000000000002 (-8.500000000000021)\n",
      "Epoch 040/051 | Loss 0.0561 | Win/lose count 6.5/17.999999999999986 (-11.499999999999986)\n",
      "Epoch 041/051 | Loss 0.0061 | Win/lose count 5.5/22.200000000000053 (-16.700000000000053)\n",
      "Epoch 042/051 | Loss 0.0074 | Win/lose count 17.5/16.899999999999977 (0.6000000000000227)\n",
      "Epoch 043/051 | Loss 0.0559 | Win/lose count 9.5/21.60000000000003 (-12.10000000000003)\n",
      "Epoch 044/051 | Loss 0.0044 | Win/lose count 11.5/21.600000000000048 (-10.100000000000048)\n",
      "Epoch 045/051 | Loss 0.0144 | Win/lose count 5.5/17.799999999999983 (-12.299999999999983)\n",
      "Epoch 046/051 | Loss 0.0188 | Win/lose count 7.5/23.70000000000008 (-16.20000000000008)\n",
      "Epoch 047/051 | Loss 0.0075 | Win/lose count 12.0/22.00000000000006 (-10.00000000000006)\n",
      "Epoch 048/051 | Loss 0.0074 | Win/lose count 2.5/20.20000000000002 (-17.70000000000002)\n",
      "Epoch 049/051 | Loss 0.0036 | Win/lose count 7.5/17.59999999999998 (-10.09999999999998)\n",
      "Epoch 050/051 | Loss 0.0086 | Win/lose count 11.5/15.499999999999961 (-3.999999999999961)\n"
     ]
    },
    {
     "data": {
      "text/html": [
       "<video alt=\"test\" controls>\n",
       "                <source src=\"data:video/mp4;base64,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\" type=\"video/mp4\" />\n",
       "             </video>"
      ],
      "text/plain": [
       "<IPython.core.display.HTML object>"
      ]
     },
     "execution_count": 21,
     "metadata": {},
     "output_type": "execute_result"
    }
   ],
   "source": [
    "# Training\n",
    "epochs_train = 51\n",
    "\n",
    "env = EnvironmentExploring(grid_size=size, max_time=T, temperature=0.3)\n",
    "agent = DQN_CNN(size, lr=.1, epsilon = 0.1, memory_size=2000, batch_size = 32,n_state=3)\n",
    "epsilon_setter = lambda e: epsilon_linear(e,[0.1,0.],30)\n",
    "train_explore(agent, env, epochs_train,epsilon_setter, prefix='cnn_train_explore')\n",
    "HTML(display_videos('cnn_train_explore10.mp4'))"
   ]
  },
  {
   "cell_type": "code",
   "execution_count": 22,
   "metadata": {},
   "outputs": [
    {
     "name": "stdout",
     "output_type": "stream",
     "text": [
      "Win/lose count 5.5/2.0. Average score (3.5)\n",
      "Win/lose count 9.5/3.0. Average score (5.0)\n",
      "Win/lose count 1.5/2.0. Average score (3.1666666666666665)\n",
      "Win/lose count 4.0/0. Average score (3.375)\n",
      "Win/lose count 5.0/2.0. Average score (3.3)\n",
      "Win/lose count 6.0/2.0. Average score (3.4166666666666665)\n",
      "Win/lose count 7.5/2.0. Average score (3.7142857142857144)\n",
      "Win/lose count 2.0/0. Average score (3.5)\n",
      "Win/lose count 7.0/3.0. Average score (3.5555555555555554)\n",
      "Win/lose count 4.0/0. Average score (3.6)\n",
      "Win/lose count 3.5/0. Average score (3.590909090909091)\n",
      "Win/lose count 2.0/2.0. Average score (3.2916666666666665)\n",
      "Win/lose count 4.5/2.0. Average score (3.230769230769231)\n",
      "Win/lose count 0.5/0. Average score (3.0357142857142856)\n",
      "Win/lose count 0.5/1.0. Average score (2.8)\n",
      "Win/lose count 5.0/4.0. Average score (2.6875)\n",
      "Win/lose count 4.0/2.0. Average score (2.6470588235294117)\n",
      "Win/lose count 8.0/3.0. Average score (2.7777777777777777)\n",
      "Win/lose count 1.5/0. Average score (2.710526315789474)\n",
      "Win/lose count 0.5/1.0. Average score (2.55)\n",
      "Final score: 2.55\n"
     ]
    },
    {
     "data": {
      "text/html": [
       "<video alt=\"test\" controls>\n",
       "                <source src=\"data:video/mp4;base64,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\" type=\"video/mp4\" />\n",
       "             </video>"
      ],
      "text/plain": [
       "<IPython.core.display.HTML object>"
      ]
     },
     "execution_count": 22,
     "metadata": {},
     "output_type": "execute_result"
    }
   ],
   "source": [
    "# Evaluation\n",
    "test(agent,env,epochs_test,prefix='cnn_test_explore')\n",
    "HTML(display_videos('cnn_test_explore10.mp4'))"
   ]
  },
  {
   "cell_type": "markdown",
   "metadata": {},
   "source": [
    "***\n",
    "***\n",
    "__BONUS question__ Use the expert DQN from the previous question to generate some winning games. Train a model that mimicks its behavior. Compare the performances."
   ]
  },
  {
   "cell_type": "markdown",
   "metadata": {},
   "source": [
    "Ideas to test out:\n",
    "- would the previous architecture benefit from more training epochs? Could we get an optimal agent with this architecture (maybe tuning `epsilon`, sgd learning rate and sgd momentum ...)?\n",
    "- how well does the previous agent generalize to environments with other temperatures?\n",
    "- how accurate is the finally learned Q-function?"
   ]
  }
 ],
 "metadata": {
  "kernelspec": {
   "display_name": "Python 3",
   "language": "python",
   "name": "python3"
  },
  "language_info": {
   "codemirror_mode": {
    "name": "ipython",
    "version": 3
   },
   "file_extension": ".py",
   "mimetype": "text/x-python",
   "name": "python",
   "nbconvert_exporter": "python",
   "pygments_lexer": "ipython3",
   "version": "3.6.7"
  }
 },
 "nbformat": 4,
 "nbformat_minor": 2
}
