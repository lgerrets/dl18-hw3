{
 "cells": [
  {
   "cell_type": "markdown",
   "metadata": {},
   "source": [
    "**You may need to install [OpenCV](https://pypi.python.org/pypi/opencv-python) and [scikit-video](http://www.scikit-video.org/stable/).**"
   ]
  },
  {
   "cell_type": "code",
   "execution_count": 1,
   "metadata": {},
   "outputs": [
    {
     "name": "stderr",
     "output_type": "stream",
     "text": [
      "Using TensorFlow backend.\n"
     ]
    }
   ],
   "source": [
    "import keras\n",
    "import numpy as np\n",
    "import io\n",
    "import base64\n",
    "from IPython.display import HTML\n",
    "import skvideo.io\n",
    "import cv2\n",
    "import json\n",
    "\n",
    "from keras.models import Sequential,model_from_json\n",
    "from keras.layers.core import Dense\n",
    "from keras.optimizers import sgd\n",
    "from keras.layers import Conv2D, MaxPooling2D, Activation, AveragePooling2D,Reshape,BatchNormalization"
   ]
  },
  {
   "cell_type": "markdown",
   "metadata": {},
   "source": [
    "# MiniProject #3: Deep Reinforcement Learning"
   ]
  },
  {
   "cell_type": "markdown",
   "metadata": {},
   "source": [
    "__Notations__: $E_p$ is the expectation under probability $p$. Please justify each of your answer and widely comment your code."
   ]
  },
  {
   "cell_type": "markdown",
   "metadata": {},
   "source": [
    "# Context"
   ]
  },
  {
   "cell_type": "markdown",
   "metadata": {},
   "source": [
    "In a reinforcement learning algorithm, we modelize each step $t$ as an action $a_t$ obtained from a state $s_t$, i.e. $\\{(a_{t},s_{t})_{t\\leq T}\\}$ having the Markov property. We consider a discount factor $\\gamma \\in [0,1]$ that ensures convergence. The goal is to find among all the policies $\\pi$, one that maximizes the expected reward:\n",
    "\n",
    "\\begin{equation*}\n",
    "R(\\pi)=\\sum_{t\\leq T}E_{p^{\\pi}}[\\gamma^t r(s_{t},a_{t})] \\> ,\n",
    "\\end{equation*}\n",
    "\n",
    "where: \n",
    "\\begin{equation*}p^{\\pi}(a_{0},a_{1},s_{1},...,a_{T},s_{T})=p(a_{0})\\prod_{t=1}^{T}\\pi(a_{t}|s_{t})p(s_{t+1}|s_{t},a_{t}) \\> .\n",
    "\\end{equation*}\n",
    "\n",
    "We note the $Q$-function:\n",
    "\n",
    "\\begin{equation*}Q^\\pi(s,a)=E_{p^{\\pi}}[\\sum_{t\\leq T}\\gamma^{t}r(s_{t},a_{t})|s_{0}=s,a_{0}=a] \\> .\n",
    "\\end{equation*}\n",
    "\n",
    "Thus, the optimal Q function is:\n",
    "\\begin{equation*}\n",
    "Q^*(s,a)=\\max_{\\pi}Q^\\pi(s,a) \\> .\n",
    "\\end{equation*}\n",
    "\n",
    "In this project, we will apply the deep reinforcement learning techniques to a simple game: an agent will have to learn from scratch a policy that will permit it maximizing a reward."
   ]
  },
  {
   "cell_type": "markdown",
   "metadata": {},
   "source": [
    "## The environment, the agent and the game"
   ]
  },
  {
   "cell_type": "markdown",
   "metadata": {},
   "source": [
    "### The environment"
   ]
  },
  {
   "cell_type": "markdown",
   "metadata": {},
   "source": [
    "```Environment``` is an abstract class that represents the states, rewards, and actions to obtain the new state."
   ]
  },
  {
   "cell_type": "code",
   "execution_count": 2,
   "metadata": {},
   "outputs": [],
   "source": [
    "class Environment(object):\n",
    "    def __init__(self):\n",
    "        pass\n",
    "\n",
    "    def act(self, act):\n",
    "        \"\"\"\n",
    "        One can act on the environment and obtain its reaction:\n",
    "        - the new state\n",
    "        - the reward of the new state\n",
    "        - should we continue the game?\n",
    "\n",
    "        :return: state, reward, game_over\n",
    "        \"\"\"\n",
    "        pass\n",
    "\n",
    "\n",
    "    def reset(self):\n",
    "        \"\"\"\n",
    "        Reinitialize the environment to a random state and returns\n",
    "        the original state\n",
    "\n",
    "        :return: state\n",
    "        \"\"\"\n",
    "        pass\n",
    "    \n",
    "    def draw(self):\n",
    "        \"\"\"\n",
    "        Visualize in the console or graphically the current state\n",
    "        \"\"\"\n",
    "        pass"
   ]
  },
  {
   "cell_type": "markdown",
   "metadata": {},
   "source": [
    "The method ```act``` allows to act on the environment at a given state $s_t$ (stored internally), via action $a_t$. The method will return the new state $s_{t+1}$, the reward $r(s_{t},a_{t})$ and determines if $t\\leq T$ (*game_over*).\n",
    "\n",
    "The method ```reset``` simply reinitializes the environment to a random state $s_0$.\n",
    "\n",
    "The method ```draw``` displays the current state $s_t$ (this is useful to check the behavior of the Agent).\n",
    "\n",
    "We modelize $s_t$ as a tensor, while $a_t$ is an integer."
   ]
  },
  {
   "cell_type": "markdown",
   "metadata": {},
   "source": [
    "### The Agent"
   ]
  },
  {
   "cell_type": "markdown",
   "metadata": {},
   "source": [
    "The goal of the ```Agent``` is to interact with the ```Environment``` by proposing actions $a_t$ obtained from a given state $s_t$ to attempt to maximize its __reward__ $r(s_t,a_t)$. We propose the following abstract class:"
   ]
  },
  {
   "cell_type": "code",
   "execution_count": 3,
   "metadata": {},
   "outputs": [],
   "source": [
    "class Agent(object):\n",
    "    def __init__(self, epsilon=0.1, n_action=4):\n",
    "        self.epsilon = epsilon\n",
    "        self.n_action = n_action\n",
    "    \n",
    "    def set_epsilon(self,e):\n",
    "        self.epsilon = e\n",
    "\n",
    "    def act(self,s,train=True):\n",
    "        \"\"\" This function should return the next action to do:\n",
    "        an integer between 0 and 4 (not included) with a random exploration of epsilon\"\"\"\n",
    "        if train:\n",
    "            if np.random.rand() <= self.epsilon:\n",
    "                a = np.random.randint(0, self.n_action, size=1)[0]\n",
    "            else:\n",
    "                a = self.learned_act(s)\n",
    "        else: # in some cases, this can improve the performance.. remove it if poor performances\n",
    "            a = self.learned_act(s)\n",
    "\n",
    "        return a\n",
    "\n",
    "    def learned_act(self,s):\n",
    "        \"\"\" Act via the policy of the agent, from a given state s\n",
    "        it proposes an action a\"\"\"\n",
    "        pass\n",
    "\n",
    "    def reinforce(self, s, n_s, a, r, game_over_):\n",
    "        \"\"\" This function is the core of the learning algorithm. \n",
    "        It takes as an input the current state s_, the next state n_s_\n",
    "        the action a_ used to move from s_ to n_s_ and the reward r_.\n",
    "        \n",
    "        Its goal is to learn a policy.\n",
    "        \"\"\"\n",
    "        pass\n",
    "\n",
    "    def save(self):\n",
    "        \"\"\" This function returns basic stats if applicable: the\n",
    "        loss and/or the model\"\"\"\n",
    "        pass\n",
    "\n",
    "    def load(self):\n",
    "        \"\"\" This function allows to restore a model\"\"\"\n",
    "        pass"
   ]
  },
  {
   "cell_type": "markdown",
   "metadata": {},
   "source": [
    "***\n",
    "__Question 1__:\n",
    "Explain the function act. Why is ```epsilon``` essential?"
   ]
  },
  {
   "cell_type": "markdown",
   "metadata": {},
   "source": [
    "The agent above is called an *epsilon-greedy algorithm*. In such agent, `epsilon` is used to ensure that the agent sometimes randomly explores the environement instead of always acting optimally (according to itself). Choosing the right `epsilon` is quite complex and environment-dependent; this problem is referred to as the *exploration-exploitation trade-off*. Exploration is needed to guarantee that the agent is provided enough information about the global environment's states and rewards."
   ]
  },
  {
   "cell_type": "markdown",
   "metadata": {},
   "source": [
    "***\n",
    "### The Game"
   ]
  },
  {
   "cell_type": "markdown",
   "metadata": {},
   "source": [
    "The ```Agent``` and the ```Environment``` work in an interlaced way as in the following (take some time to understand this code as it is the core of the project)\n",
    "\n",
    "```python\n",
    "\n",
    "epoch = 300\n",
    "env = Environment()\n",
    "agent = Agent()\n",
    "\n",
    "\n",
    "# Number of won games\n",
    "score = 0\n",
    "loss = 0\n",
    "\n",
    "\n",
    "for e in range(epoch):\n",
    "    # At each epoch, we restart to a fresh game and get the initial state\n",
    "    state = env.reset()\n",
    "    # This assumes that the games will end\n",
    "    game_over = False\n",
    "\n",
    "    win = 0\n",
    "    lose = 0\n",
    "    \n",
    "    while not game_over:\n",
    "        # The agent performs an action\n",
    "        action = agent.act(state)\n",
    "\n",
    "        # Apply an action to the environment, get the next state, the reward\n",
    "        # and if the games end\n",
    "        prev_state = state\n",
    "        state, reward, game_over = env.act(action)\n",
    "\n",
    "        # Update the counters\n",
    "        if reward > 0:\n",
    "            win = win + reward\n",
    "        if reward < 0:\n",
    "            lose = lose -reward\n",
    "\n",
    "        # Apply the reinforcement strategy\n",
    "        loss = agent.reinforce(prev_state, state,  action, reward, game_over)\n",
    "\n",
    "    # Save as a mp4\n",
    "    if e % 10 == 0:\n",
    "        env.draw(e)\n",
    "\n",
    "    # Update stats\n",
    "    score += win-lose\n",
    "\n",
    "    print(\"Epoch {:03d}/{:03d} | Loss {:.4f} | Win/lose count {}/{} ({})\"\n",
    "          .format(e, epoch, loss, win, lose, win-lose))\n",
    "    agent.save()\n",
    "```"
   ]
  },
  {
   "cell_type": "markdown",
   "metadata": {},
   "source": [
    "# The game, *eat cheese*"
   ]
  },
  {
   "cell_type": "markdown",
   "metadata": {},
   "source": [
    "A rat runs on an island and tries to eat as much as possible. The island is subdivided into $N\\times N$ cells, in which there are cheese (+0.5) and poisonous cells (-1). The rat has a visibility of 2 cells (thus it can see $5^2$ cells). The rat is given a time $T$ to accumulate as much food as possible. It can perform 4 actions: going up, down, left, right. \n",
    "\n",
    "The goal is to code an agent to solve this task that will learn by trial and error. We propose the following environment:"
   ]
  },
  {
   "cell_type": "code",
   "execution_count": 4,
   "metadata": {},
   "outputs": [],
   "source": [
    "class Environment(object):\n",
    "    def __init__(self, grid_size=10, max_time=500, temperature=0.1):\n",
    "        grid_size = grid_size+4\n",
    "        self.grid_size = grid_size\n",
    "        self.max_time = max_time\n",
    "        self.temperature = temperature\n",
    "\n",
    "        #board on which one plays\n",
    "        self.board = np.zeros((grid_size,grid_size))\n",
    "        self.position = np.zeros((grid_size,grid_size))\n",
    "\n",
    "        # coordinate of the cat\n",
    "        self.x = 0\n",
    "        self.y = 1\n",
    "\n",
    "        # self time\n",
    "        self.t = 0\n",
    "\n",
    "        self.scale=16\n",
    "\n",
    "        self.to_draw = np.zeros((max_time+2, grid_size*self.scale, grid_size*self.scale, 3))\n",
    "\n",
    "\n",
    "    def draw(self,e):\n",
    "        skvideo.io.vwrite(str(e) + '.mp4', self.to_draw)\n",
    "\n",
    "    def get_frame(self,t):\n",
    "        b = np.zeros((self.grid_size,self.grid_size,3))+128\n",
    "        b[self.board>0,0] = 256\n",
    "        b[self.board < 0, 2] = 256\n",
    "        b[self.x,self.y,:]=256\n",
    "        b[-2:,:,:]=0\n",
    "        b[:,-2:,:]=0\n",
    "        b[:2,:,:]=0\n",
    "        b[:,:2,:]=0\n",
    "        \n",
    "        b =  cv2.resize(b, None, fx=self.scale, fy=self.scale, interpolation=cv2.INTER_NEAREST)\n",
    "\n",
    "        self.to_draw[t,:,:,:]=b\n",
    "\n",
    "\n",
    "    def act(self, action):\n",
    "        \"\"\"This function returns the new state, reward and decides if the\n",
    "        game ends.\"\"\"\n",
    "\n",
    "        self.get_frame(int(self.t))\n",
    "\n",
    "        self.position = np.zeros((self.grid_size, self.grid_size))\n",
    "\n",
    "        self.position[0:2,:]= -1\n",
    "        self.position[:,0:2] = -1\n",
    "        self.position[-2:, :] = -1\n",
    "        self.position[-2:, :] = -1\n",
    "\n",
    "        self.position[self.x, self.y] = 1\n",
    "        if action == 0: # right\n",
    "            if self.x == self.grid_size-3:\n",
    "                self.x = self.x-1\n",
    "            else:\n",
    "                self.x = self.x + 1\n",
    "        elif action == 1: # left\n",
    "            if self.x == 2:\n",
    "                self.x = self.x+1\n",
    "            else:\n",
    "                self.x = self.x-1\n",
    "        elif action == 2: # \n",
    "            if self.y == self.grid_size - 3:\n",
    "                self.y = self.y - 1\n",
    "            else:\n",
    "                self.y = self.y + 1\n",
    "        elif action == 3: # \n",
    "            if self.y == 2:\n",
    "                self.y = self.y + 1\n",
    "            else:\n",
    "                self.y = self.y - 1\n",
    "        else:\n",
    "            RuntimeError('Error: action not recognized')\n",
    "\n",
    "        self.t = self.t + 1\n",
    "        reward = self.board[self.x, self.y]\n",
    "        self.board[self.x, self.y] = 0\n",
    "        game_over = self.t > self.max_time\n",
    "        state = np.concatenate((self.board.reshape(self.grid_size, self.grid_size,1),\n",
    "                        self.position.reshape(self.grid_size, self.grid_size,1)),axis=2)\n",
    "        state = state[self.x-2:self.x+3,self.y-2:self.y+3,:]\n",
    "\n",
    "        return state, reward, game_over\n",
    "\n",
    "    def reset(self):\n",
    "        \"\"\"This function resets the game and returns the initial state\"\"\"\n",
    "\n",
    "        self.x = np.random.randint(3, self.grid_size-3, size=1)[0]\n",
    "        self.y = np.random.randint(3, self.grid_size-3, size=1)[0]\n",
    "\n",
    "\n",
    "        bonus = 0.5*np.random.binomial(1,self.temperature,size=self.grid_size**2)\n",
    "        bonus = bonus.reshape(self.grid_size,self.grid_size)\n",
    "\n",
    "        malus = -1.0*np.random.binomial(1,self.temperature,size=self.grid_size**2)\n",
    "        malus = malus.reshape(self.grid_size, self.grid_size)\n",
    "\n",
    "        self.to_draw = np.zeros((self.max_time+2, self.grid_size*self.scale, self.grid_size*self.scale, 3))\n",
    "\n",
    "\n",
    "        malus[bonus>0]=0\n",
    "\n",
    "        self.board = bonus + malus\n",
    "\n",
    "        self.position = np.zeros((self.grid_size, self.grid_size))\n",
    "        self.position[0:2,:]= -1\n",
    "        self.position[:,0:2] = -1\n",
    "        self.position[-2:, :] = -1\n",
    "        self.position[-2:, :] = -1\n",
    "        self.board[self.x,self.y] = 0\n",
    "        self.t = 0\n",
    "\n",
    "        state = np.concatenate((\n",
    "                               self.board.reshape(self.grid_size, self.grid_size,1),\n",
    "                        self.position.reshape(self.grid_size, self.grid_size,1)),axis=2)\n",
    "\n",
    "        state = state[self.x - 2:self.x + 3, self.y - 2:self.y + 3, :]\n",
    "        return state"
   ]
  },
  {
   "cell_type": "markdown",
   "metadata": {},
   "source": [
    "The following elements are important because they correspond to the hyper parameters for this project:"
   ]
  },
  {
   "cell_type": "code",
   "execution_count": 5,
   "metadata": {},
   "outputs": [],
   "source": [
    "# parameters\n",
    "size = 13\n",
    "T=200\n",
    "temperature=0.3\n",
    "epochs_train=1 # set small when debugging\n",
    "epochs_test=1 # set small when debugging\n",
    "\n",
    "# display videos\n",
    "def display_videos(name):\n",
    "    video = io.open(name, 'r+b').read()\n",
    "    encoded = base64.b64encode(video)\n",
    "    return '''<video alt=\"test\" controls>\n",
    "                <source src=\"data:video/mp4;base64,{0}\" type=\"video/mp4\" />\n",
    "             </video>'''.format(encoded.decode('ascii'))"
   ]
  },
  {
   "cell_type": "markdown",
   "metadata": {},
   "source": [
    "__Question 2__ Explain the use of the arrays ```position``` and ```board```."
   ]
  },
  {
   "cell_type": "markdown",
   "metadata": {},
   "source": [
    "`position` contains information of the edges of the island (-1) and of the last occupied position of the agent (1).\n",
    "\n",
    "`board` contains information of all the rewards in the environment (either boni or mali)."
   ]
  },
  {
   "cell_type": "markdown",
   "metadata": {},
   "source": [
    "## Random Agent"
   ]
  },
  {
   "cell_type": "markdown",
   "metadata": {},
   "source": [
    "***\n",
    "__Question 3__ Implement a random Agent (only ```learned_act``` needs to be implemented):"
   ]
  },
  {
   "cell_type": "code",
   "execution_count": 6,
   "metadata": {},
   "outputs": [],
   "source": [
    "class RandomAgent(Agent):\n",
    "    def __init__(self):\n",
    "        super(RandomAgent, self).__init__()\n",
    "\n",
    "    def learned_act(self, s):\n",
    "        action = np.random.randint(0,self.n_action)\n",
    "        return action"
   ]
  },
  {
   "cell_type": "markdown",
   "metadata": {},
   "source": [
    "***\n",
    "***\n",
    "__Question 4__ Visualize the game moves. You need to fill in the following function for the evaluation:"
   ]
  },
  {
   "cell_type": "code",
   "execution_count": 7,
   "metadata": {},
   "outputs": [],
   "source": [
    "def test(agent,env,epochs,prefix=''):\n",
    "    # Number of won games\n",
    "    score = 0\n",
    "        \n",
    "    for e in range(epochs):\n",
    "        \n",
    "        # At each epoch, we restart to a fresh game and get the initial state\n",
    "        state = env.reset()\n",
    "        # This assumes that the games will end\n",
    "        game_over = False\n",
    "\n",
    "        win = 0\n",
    "        lose = 0\n",
    "\n",
    "        while not game_over:\n",
    "            # The agent performs an action\n",
    "            action = agent.act(state,train=False)\n",
    "\n",
    "            # Apply an action to the environment, get the next state, the reward\n",
    "            # and if the games end\n",
    "            prev_state = state\n",
    "            state, reward, game_over = env.act(action)\n",
    "\n",
    "            # Update the counters\n",
    "            if reward > 0:\n",
    "                win = win + reward\n",
    "            if reward < 0:\n",
    "                lose = lose -reward\n",
    "        \n",
    "        # Save as a mp4\n",
    "        env.draw(prefix+str(e))\n",
    "\n",
    "        # Update stats\n",
    "        score = score + win-lose\n",
    "\n",
    "        print(\"Win/lose count {}/{}. Average score ({})\"\n",
    "              .format(win, lose, score/(1+e)))\n",
    "    print('Final score: '+str(score/epochs))"
   ]
  },
  {
   "cell_type": "code",
   "execution_count": 8,
   "metadata": {},
   "outputs": [
    {
     "name": "stdout",
     "output_type": "stream",
     "text": [
      "Win/lose count 10.5/29.0. Average score (-18.5)\n",
      "Final score: -18.5\n"
     ]
    },
    {
     "data": {
      "text/html": [
       "<video alt=\"test\" controls>\n",
       "                <source src=\"data:video/mp4;base64,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\" type=\"video/mp4\" />\n",
       "             </video>"
      ],
      "text/plain": [
       "<IPython.core.display.HTML object>"
      ]
     },
     "execution_count": 8,
     "metadata": {},
     "output_type": "execute_result"
    }
   ],
   "source": [
    "# Initialize the game\n",
    "env = Environment(grid_size=size, max_time=T,temperature=temperature)\n",
    "\n",
    "# Initialize the agent!\n",
    "agent = RandomAgent()\n",
    "\n",
    "test(agent,env,epochs_test,prefix='random')\n",
    "HTML(display_videos('random0.mp4'))"
   ]
  },
  {
   "cell_type": "markdown",
   "metadata": {},
   "source": [
    "***\n",
    "## DQN"
   ]
  },
  {
   "cell_type": "markdown",
   "metadata": {},
   "source": [
    "Let us assume here that $T=\\infty$.\n",
    "\n",
    "***\n",
    "__Question 5__ Let $\\pi$ be a policy, show that:\n",
    "\n",
    "\\begin{equation*}\n",
    "Q^{\\pi}(s,a)=E_{(s',a')\\sim p(.|s,a)}[r(s,a)+\\gamma Q^{\\pi}(s',a')]\n",
    "\\end{equation*}\n",
    "\n",
    "Then, show that for the optimal policy $\\pi^*$ (we assume its existence), the following holds: \n",
    "\n",
    "\\begin{equation*}\n",
    "Q^{*}(s,a)=E_{s'\\sim \\pi^*(.|s,a)}[r(s,a)+\\gamma\\max_{a'}Q^{*}(s',a')].\n",
    "\\end{equation*}\n",
    "Finally, deduce that a plausible objective is:\n",
    "\n",
    "\\begin{equation*}\n",
    "\\mathcal{L}(\\theta)=E_{s' \\sim \\pi^*(.|s,a)}\\Vert r+\\gamma\\max\\max_{a'}Q(s',a',\\theta)-Q(s,a,\\theta)\\Vert^{2}.\n",
    "\\end{equation*}\n",
    "\n",
    "\n"
   ]
  },
  {
   "cell_type": "markdown",
   "metadata": {},
   "source": [
    "By definition we have\n",
    "\\begin{equation*}Q^\\pi(s,a)=E_{p^{\\pi}}[\\sum_{0\\leq t}\\gamma^{t}r(s_{t},a_{t})|s_{0}=s,a_{0}=a]\n",
    "\\end{equation*}\n",
    "ie\n",
    "\\begin{equation*}Q^\\pi(s,a)=E_{p^{\\pi}}[r(s,a) + \\gamma\\sum_{1\\leq t}\\gamma^{t-1}r(s_{t},a_{t})|s_{0}=s,a_{0}=a]\n",
    "\\end{equation*}\n",
    "which results in\n",
    "\\begin{equation*}Q^{\\pi}(s,a)=E_{(s',a')\\sim p(.|s,a)}[r(s,a)+\\gamma Q^{\\pi}(s',a')]\n",
    "\\end{equation*}\n",
    "Applying this last property to $Q^{\\pi^*}=Q^*$ gives:\n",
    "\\begin{equation*}Q^*(s,a)=E_{(s',a')\\sim p(.|s,a)}[r(s,a)+\\gamma Q^{*}(s',a')]\n",
    "\\end{equation*}\n",
    "and, given that\n",
    "\\begin{equation*}Q^*(s,\\pi^*(s))=\\max_{a}Q^*(s,a)\n",
    "\\end{equation*}\n",
    "we obtain\n",
    "\\begin{equation*}Q^*(s,a)=E_{s'\\sim \\pi^*(.|s,a)}[r(s,a)+\\gamma\\max_{a'}Q^{*}(s',a')] \\> .\n",
    "\\end{equation*}\n",
    "\n",
    "Now, to create an objective function, $r+\\gamma\\max_{a'}Q(s',a',\\theta)$ can be viewed as a target value for $Q(s,a,\\theta)$; the difference between the two is called a temporal difference. At every state and action, this difference is minimal with value 0 when $\\pi=\\pi^*$. Then, setting\n",
    "\\begin{equation*}\n",
    "\\mathcal{L}(\\theta)=E_{s' \\sim \\pi^*(.|s,a)}\\Vert r+\\gamma\\max\\max_{a'}Q(s',a',\\theta)-Q(s,a,\\theta)\\Vert^{2}.\n",
    "\\end{equation*}\n",
    "as the loss function to optimize is a reasonable choice. This loss function was introduced by https://arxiv.org/pdf/1312.5602.pdf to solve Atari games with deep reinforcement learning."
   ]
  },
  {
   "cell_type": "markdown",
   "metadata": {},
   "source": [
    "***\n",
    "The DQN-learning algorithm relies on these derivations to train the parameters $\\theta$ of a Deep Neural Network:\n",
    "\n",
    "1. At the state $s_t$, select the action $a_t$ with best reward using $Q_t$ and store the results;\n",
    "\n",
    "2. Obtain the new state $s_{t+1}$ from the environment $p$;\n",
    "\n",
    "3. Store $(s_t,a_t,s_{t+1})$;\n",
    "\n",
    "4. Obtain $Q_{t+1}$ by minimizing  $\\mathcal{L}$ from a recovered batch from the previously stored results.\n",
    "\n",
    "***\n",
    "__Question 6__ Implement the class ```Memory``` that stores moves (in a replay buffer) via ```remember``` and provides a ```random_access``` to these. Specify a maximum memory size to avoid side effects. You can for example use a ```list()``` and set by default ```max_memory=100```."
   ]
  },
  {
   "cell_type": "code",
   "execution_count": 9,
   "metadata": {},
   "outputs": [],
   "source": [
    "class Memory(object):\n",
    "    def __init__(self, max_memory=100):\n",
    "        self.max_memory = max_memory\n",
    "        self.memory = list()\n",
    "\n",
    "    def remember(self, m):\n",
    "        self.memory.append(m)\n",
    "        if len(self.memory) > self.max_memory:\n",
    "            self.memory.pop(0)\n",
    "\n",
    "    def random_access(self):\n",
    "        index = np.random.randint(0,len(self.memory))\n",
    "        return self.memory[index]"
   ]
  },
  {
   "cell_type": "markdown",
   "metadata": {},
   "source": [
    "***\n",
    "The pipeline we will use for training is given below:"
   ]
  },
  {
   "cell_type": "code",
   "execution_count": 10,
   "metadata": {},
   "outputs": [],
   "source": [
    "def train(agent,env,epoch,prefix=''):\n",
    "    # Number of won games\n",
    "    score = 0\n",
    "    loss = 0\n",
    "\n",
    "    for e in range(epoch):\n",
    "        # At each epoch, we restart to a fresh game and get the initial state\n",
    "        state = env.reset()\n",
    "        # This assumes that the games will terminate\n",
    "        game_over = False\n",
    "\n",
    "        win = 0\n",
    "        lose = 0\n",
    "\n",
    "        while not game_over:\n",
    "            # The agent performs an action\n",
    "            action = agent.act(state)\n",
    "\n",
    "            # Apply an action to the environment, get the next state, the reward\n",
    "            # and if the games end\n",
    "            prev_state = state\n",
    "            state, reward, game_over = env.act(action)\n",
    "\n",
    "            # Update the counters\n",
    "            if reward > 0:\n",
    "                win = win + reward\n",
    "            if reward < 0:\n",
    "                lose = lose -reward\n",
    "\n",
    "            # Apply the reinforcement strategy\n",
    "            loss = agent.reinforce(prev_state, state,  action, reward, game_over)\n",
    "\n",
    "        # Save as a mp4\n",
    "        if e % 10 == 0:\n",
    "            env.draw(prefix+str(e))\n",
    "\n",
    "        # Update stats\n",
    "        score += win-lose\n",
    "\n",
    "        print(\"Epoch {:03d}/{:03d} | Loss {:.4f} | Win/lose count {}/{} ({})\"\n",
    "              .format(e, epoch, loss, win, lose, win-lose))\n",
    "        agent.save(name_weights=prefix+'model.h5',name_model=prefix+'model.json')"
   ]
  },
  {
   "cell_type": "markdown",
   "metadata": {},
   "source": [
    "***\n",
    "__Question 7__ Implement the DQN training algorithm using a cascade of fully connected layers. You can use different learning rate, batch size or memory size parameters. In particular, the loss might oscillate while the player will start to win the games. You have to find a good criterium."
   ]
  },
  {
   "cell_type": "code",
   "execution_count": null,
   "metadata": {
    "collapsed": true
   },
   "outputs": [],
   "source": [
    "class DQN(Agent):\n",
    "    def __init__(self, grid_size,  epsilon = 0.1, memory_size=100, batch_size = 16,n_state=2):\n",
    "        super(DQN, self).__init__(epsilon = epsilon)\n",
    "\n",
    "        # Discount for Q learning\n",
    "        self.discount = 0.99\n",
    "        \n",
    "        self.grid_size = grid_size\n",
    "        \n",
    "        # number of state\n",
    "        self.n_state = n_state\n",
    "\n",
    "        # Memory\n",
    "        self.memory = Memory(memory_size)\n",
    "        \n",
    "        # Batch size when learning\n",
    "        self.batch_size = batch_size\n",
    "\n",
    "    def learned_act(self, s):\n",
    "        pass\n",
    "\n",
    "    def reinforce(self, s_, n_s_, a_, r_, game_over_):\n",
    "        # Two steps: first memorize the states, second learn from the pool\n",
    "\n",
    "        self.memory.remember([s_, n_s_, a_, r_, game_over_])\n",
    "        \n",
    "        input_states = np.zeros((self.batch_size, 5,5,self.n_state))\n",
    "        target_q = np.zeros((self.batch_size, 4))\n",
    "        \n",
    "        for i in range(self.batch_size):\n",
    "            ######## FILL IN\n",
    "            \n",
    "            if game_over_:\n",
    "                ######## FILL IN\n",
    "            else:\n",
    "                ######## FILL IN\n",
    "        ######## FILL IN\n",
    "        # HINT: Clip the target to avoid exploiding gradients.. -- clipping is a bit tighter\n",
    "        target_q = np.clip(target_q, -3, 3)\n",
    "\n",
    "        l = self.model.train_on_batch(input_states, target_q)\n",
    "\n",
    "\n",
    "        return l\n",
    "\n",
    "    def save(self,name_weights='model.h5',name_model='model.json'):\n",
    "        self.model.save_weights(name_weights, overwrite=True)\n",
    "        with open(name_model, \"w\") as outfile:\n",
    "            json.dump(self.model.to_json(), outfile)\n",
    "            \n",
    "    def load(self,name_weights='model.h5',name_model='model.json'):\n",
    "        with open(name_model, \"r\") as jfile:\n",
    "            model = model_from_json(json.load(jfile))\n",
    "        model.load_weights(name_weights)\n",
    "        model.compile(\"sgd\", \"mse\")\n",
    "        self.model = model\n",
    "\n",
    "            \n",
    "class DQN_FC(DQN):\n",
    "    def __init__(self, *args, lr=0.1,**kwargs):\n",
    "        super(DQN_FC, self).__init__( *args,**kwargs)\n",
    "        \n",
    "        # NN Model\n",
    "        \n",
    "        ####### FILL IN\n",
    "        \n",
    "        model.compile(sgd(lr=lr, decay=1e-4, momentum=0.0), \"mse\")\n",
    "        self.model = model\n",
    "        "
   ]
  },
  {
   "cell_type": "code",
   "execution_count": null,
   "metadata": {
    "collapsed": true
   },
   "outputs": [],
   "source": [
    "env = Environment(grid_size=size, max_time=T, temperature=0.3)\n",
    "agent = DQN_FC(size, lr=.1, epsilon = 0.1, memory_size=2000, batch_size = 32)\n",
    "train(agent, env, epochs_train, prefix='fc_train')\n",
    "HTML(display_videos('fc_train10.mp4'))"
   ]
  },
  {
   "cell_type": "markdown",
   "metadata": {},
   "source": [
    "***\n",
    "***\n",
    "__Question 8__ Implement the DQN training algorithm using a CNN (for example, 2 convolutional layers and one final fully connected layer)."
   ]
  },
  {
   "cell_type": "code",
   "execution_count": null,
   "metadata": {
    "collapsed": true
   },
   "outputs": [],
   "source": [
    "class DQN_CNN(DQN):\n",
    "    def __init__(self, *args,lr=0.1,**kwargs):\n",
    "        super(DQN_CNN, self).__init__(*args,**kwargs)\n",
    "        \n",
    "        ###### FILL IN\n",
    "        \n",
    "        model.compile(sgd(lr=lr, decay=1e-4, momentum=0.0), \"mse\")\n",
    "        self.model = model"
   ]
  },
  {
   "cell_type": "code",
   "execution_count": null,
   "metadata": {
    "collapsed": true
   },
   "outputs": [],
   "source": [
    "env = Environment(grid_size=size, max_time=T, temperature=0.3)\n",
    "agent = DQN_CNN(size, lr=.1, epsilon = 0.1, memory_size=2000, batch_size = 32)\n",
    "train(agent,env,epochs_train,prefix='cnn_train')\n",
    "HTML(display_videos('cnn_train10.mp4'))"
   ]
  },
  {
   "cell_type": "markdown",
   "metadata": {},
   "source": [
    "***\n",
    "***\n",
    "__Question 9__ Test both algorithms and compare their performances. Which issue(s) do you observe? Observe also different behaviors by changing the temperature."
   ]
  },
  {
   "cell_type": "code",
   "execution_count": null,
   "metadata": {
    "collapsed": true
   },
   "outputs": [],
   "source": [
    "env = Environment(grid_size=size, max_time=T,temperature=0.3)\n",
    "agent_cnn = DQN_CNN(size, lr=.1, epsilon = 0.1, memory_size=2000, batch_size = 32)\n",
    "agent_cnn.load(name_weights='cnn_trainmodel.h5',name_model='cnn_trainmodel.json')\n",
    "\n",
    "agent_fc = DQN_FC(size, lr=.1, epsilon = 0.1, memory_size=2000, batch_size = 32)\n",
    "agent_cnn.load(name_weights='fc_trainmodel.h5',name_model='fc_trainmodel.json')\n",
    "print('Test of the CNN')\n",
    "test(agent_cnn,env,epochs_test,prefix='cnn_test')\n",
    "print('Test of the FC')\n",
    "test(agent_fc,env,epochs_test,prefix='fc_test')"
   ]
  },
  {
   "cell_type": "code",
   "execution_count": null,
   "metadata": {
    "collapsed": true
   },
   "outputs": [],
   "source": [
    "HTML(display_videos('cnn_test10.mp4'))"
   ]
  },
  {
   "cell_type": "code",
   "execution_count": null,
   "metadata": {
    "collapsed": true
   },
   "outputs": [],
   "source": [
    "HTML(display_videos('fc_test10.mp4'))"
   ]
  },
  {
   "cell_type": "markdown",
   "metadata": {},
   "source": []
  },
  {
   "cell_type": "markdown",
   "metadata": {},
   "source": [
    "***\n",
    "\n",
    "The algorithm tends to not explore the map which can be an issue. We propose two ideas in order to encourage exploration:\n",
    "1. Incorporating a decreasing $\\epsilon$-greedy exploration. You can use the method ```set_epsilon```\n",
    "2. Append via the environment a new state that describes if a cell has been visited or not\n",
    "\n",
    "***\n",
    "__Question 10__ Design a new ```train_explore``` function and environment class ```EnvironmentExploring``` to tackle the issue of exploration.\n",
    "\n"
   ]
  },
  {
   "cell_type": "code",
   "execution_count": null,
   "metadata": {
    "collapsed": true
   },
   "outputs": [],
   "source": [
    "def train_explore(agent,env,epoch,prefix=''):\n",
    "    pass\n",
    "        \n",
    "class EnvironmentExploring(object):\n",
    "    def __init__(self, grid_size=10, max_time=500, temperature=0.1):\n",
    "        pass\n",
    "    \n",
    "## use those samples of code:\n",
    "#In train explore:\n",
    "state, reward, game_over = env.act(action, train=True)\n",
    "\n",
    "## In Environment exploring:\n",
    "# You will have to change n_state to 3 because you will use one more layer!\n",
    "reward = 0\n",
    "if train:\n",
    "    reward = -self.malus_position[self.x, self.y]\n",
    "self.malus_position[self.x, self.y] = 0.1\n",
    "\n",
    "reward = reward + self.board[self.x, self.y]\n",
    "# 3 \"feature\" states instead of 2\n",
    "state = np.concatenate((self.malus_position.reshape(self.grid_size, self.grid_size,1),\n",
    "                                self.board.reshape(self.grid_size, self.grid_size,1),\n",
    "                        self.position.reshape(self.grid_size, self.grid_size,1)),axis=2)"
   ]
  },
  {
   "cell_type": "code",
   "execution_count": null,
   "metadata": {
    "collapsed": true
   },
   "outputs": [],
   "source": [
    "# Training\n",
    "env = EnvironmentExploring(grid_size=size, max_time=T, temperature=0.3)\n",
    "agent = DQN_CNN(size, lr=.1, epsilon = 0.1, memory_size=2000, batch_size = 32,n_state=3)\n",
    "train_explore(agent, env, epochs_train, prefix='cnn_train_explore')\n",
    "HTML(display_videos('cnn_train_explore10.mp4'))"
   ]
  },
  {
   "cell_type": "code",
   "execution_count": null,
   "metadata": {
    "collapsed": true
   },
   "outputs": [],
   "source": [
    "# Evaluation\n",
    "test(agent,env,epochs_test,prefix='cnn_test_explore')\n",
    "HTML(display_videos('cnn_test_explore10.mp4'))"
   ]
  },
  {
   "cell_type": "markdown",
   "metadata": {},
   "source": [
    "***\n",
    "***\n",
    "__BONUS question__ Use the expert DQN from the previous question to generate some winning games. Train a model that mimicks its behavior. Compare the performances."
   ]
  },
  {
   "cell_type": "markdown",
   "metadata": {},
   "source": []
  },
  {
   "cell_type": "markdown",
   "metadata": {},
   "source": [
    "***"
   ]
  }
 ],
 "metadata": {
  "kernelspec": {
   "display_name": "Python 3",
   "language": "python",
   "name": "python3"
  },
  "language_info": {
   "codemirror_mode": {
    "name": "ipython",
    "version": 3
   },
   "file_extension": ".py",
   "mimetype": "text/x-python",
   "name": "python",
   "nbconvert_exporter": "python",
   "pygments_lexer": "ipython3",
   "version": "3.6.6"
  }
 },
 "nbformat": 4,
 "nbformat_minor": 2
}
